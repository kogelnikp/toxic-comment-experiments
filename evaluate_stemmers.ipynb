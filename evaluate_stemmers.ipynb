{
 "cells": [
  {
   "cell_type": "code",
   "execution_count": 24,
   "metadata": {},
   "outputs": [],
   "source": [
    "from utils.dataset_utils import load_data_from_csv\n",
    "from utils.preprocessing_utils import perform_stemming\n",
    "from nltk.tokenize import TweetTokenizer"
   ]
  },
  {
   "cell_type": "code",
   "execution_count": 25,
   "metadata": {
    "collapsed": true
   },
   "outputs": [],
   "source": [
    "classes = ['toxic','severe_toxic','obscene','threat','insult','identity_hate']\n",
    "features = 'comment_text'\n",
    "path_train_data = 'data/kaggle/train.csv'"
   ]
  },
  {
   "cell_type": "code",
   "execution_count": 26,
   "metadata": {
    "collapsed": true
   },
   "outputs": [],
   "source": [
    "X_train, Y_train = load_data_from_csv(path_train_data, features, classes)\n",
    "tokenizer = TweetTokenizer()\n",
    "evaluation_set = X_train[:10].apply(lambda x: tokenizer.tokenize(x))"
   ]
  },
  {
   "cell_type": "markdown",
   "metadata": {},
   "source": [
    "## Porter Stemmer"
   ]
  },
  {
   "cell_type": "code",
   "execution_count": 27,
   "metadata": {},
   "outputs": [],
   "source": [
    "from nltk.stem import PorterStemmer\n",
    "porter_stemmer = PorterStemmer()\n",
    "X_train_porter = evaluation_set.apply(lambda x: [porter_stemmer.stem(tok) for tok in x])"
   ]
  },
  {
   "cell_type": "markdown",
   "metadata": {},
   "source": [
    "## Snowball (Porter2) Stemmer"
   ]
  },
  {
   "cell_type": "code",
   "execution_count": 28,
   "metadata": {},
   "outputs": [],
   "source": [
    "from nltk.stem import SnowballStemmer\n",
    "snowball_stemmer = SnowballStemmer('english')\n",
    "X_train_snowball = evaluation_set.apply(lambda x: [snowball_stemmer.stem(tok) for tok in x])"
   ]
  },
  {
   "cell_type": "markdown",
   "metadata": {},
   "source": [
    "## Lancaster Stemmer"
   ]
  },
  {
   "cell_type": "code",
   "execution_count": 29,
   "metadata": {},
   "outputs": [],
   "source": [
    "from nltk.stem import LancasterStemmer\n",
    "lancaster_stemmer = LancasterStemmer()\n",
    "X_train_lancaster = evaluation_set.apply(lambda x: [lancaster_stemmer.stem(tok) for tok in x])"
   ]
  },
  {
   "cell_type": "markdown",
   "metadata": {},
   "source": [
    "## Results"
   ]
  },
  {
   "cell_type": "code",
   "execution_count": 30,
   "metadata": {},
   "outputs": [
    {
     "name": "stdout",
     "output_type": "stream",
     "text": [
      "explan whi the edit made under my usernam hardcor metallica fan were revert ? they weren't vandal , just closur on some ga after I vote at new york doll fac . and pleas don't remov the templat from the talk page sinc i'm retir now . 89.205 . 38.27\n",
      "explan whi the edit made under my usernam hardcor metallica fan were revert ? they weren't vandal , just closur on some gas after i vote at new york doll fac . and pleas don't remov the templat from the talk page sinc i'm retir now . 89.205 . 38.27\n",
      "expl why the edit mad und my usernam hardc metallic fan wer revert ? they weren't vand , just clos on som gas aft i vot at new york dol fac . and pleas don't remov the templ from the talk pag sint i'm retir now . 89.205 . 38.27\n",
      "\n",
      "d'aww ! He match thi background colour i'm seemingli stuck with . thank . ( talk ) 21:51 , januari 11 , 2016 ( utc )\n",
      "d'aww ! he match this background colour i'm seem stuck with . thank . ( talk ) 21:51 , januari 11 , 2016 ( utc )\n",
      "d'aww ! he match thi background colo i'm seem stuck with . thank . ( talk ) 21:51 , janu 11 , 2016 ( utc )\n",
      "\n",
      "hey man , i'm realli not tri to edit war . it' just that thi guy is constantli remov relev inform and talk to me through edit instead of my talk page . He seem to care more about the format than the actual info .\n",
      "hey man , i'm realli not tri to edit war . it just that this guy is constant remov relev inform and talk to me through edit instead of my talk page . he seem to care more about the format than the actual info .\n",
      "hey man , i'm real not try to edit war . it's just that thi guy is const remov relev inform and talk to me through edit instead of my talk pag . he seem to car mor about the format than the act info .\n",
      "\n",
      "\" more I can't make ani real suggest on improv - I wonder if the section statist should be later on , or a subsect of \" \" type of accid \" \" - I think the refer may need tidi so that they are all in the exact same format ie date format etc . I can do that later on , if no-on els doe first - if you have ani prefer for format style on refer or want to do it yourself pleas let me know . there appear to be a backlog on articl for review so I guess there may be a delay until a review turn up . it' list in the relev form eg wikipedia : good_article_nomin #transport \"\n",
      "\" more i can't make ani real suggest on improv - i wonder if the section statist should be later on , or a subsect of \" \" type of accid \" \" - i think the refer may need tidi so that they are all in the exact same format ie date format etc . i can do that later on , if no-on els doe first - if you have ani prefer for format style on refer or want to do it yourself pleas let me know . there appear to be a backlog on articl for review so i guess there may be a delay until a review turn up . it list in the relev form eg wikipedia : good_article_nomin #transport \"\n",
      "\" mor i can't mak any real suggest on improv - i wond if the sect stat should be lat on , or a subsect of \" \" typ of accid \" \" - i think the ref may nee tidy so that they ar al in the exact sam form ie dat form etc . i can do that lat on , if no-one els doe first - if you hav any pref for format styl on ref or want to do it yourself pleas let me know . ther appear to be a backlog on artic for review so i guess ther may be a delay until a review turn up . it's list in the relev form eg wikiped : good_article_nominations #transport \"\n",
      "\n",
      "you , sir , are my hero . ani chanc you rememb what page that' on ?\n",
      "you , sir , are my hero . ani chanc you rememb what page that on ?\n",
      "you , sir , ar my hero . any chant you rememb what pag that's on ?\n",
      "\n",
      "\" congratul from me as well , use the tool well . · talk \"\n",
      "\" congratul from me as well , use the tool well . · talk \"\n",
      "\" congrat from me as wel , us the tool wel . · talk \"\n",
      "\n",
      "cocksuck befor you piss around ON MY work\n",
      "cocksuck befor you piss around on my work\n",
      "cocksuck bef you piss around on my work\n",
      "\n",
      "your vandal to the matt shirvington articl ha been revert . pleas don't do it again , or you will be ban .\n",
      "your vandal to the matt shirvington articl has been revert . pleas don't do it again , or you will be ban .\n",
      "yo vand to the mat shirvington artic has been revert . pleas don't do it again , or you wil be ban .\n",
      "\n",
      "sorri if the word ' nonsens ' wa offens to you . anyway , i'm not intend to write anyth in the articl ( wow they would jump on me for vandal ) , i'm mere request that it be more encycloped so one can use it for school as a refer . I have been to the select breed page but it' almost a stub . It point to ' anim breed ' which is a short messi articl that give you no info . there must be someon around with expertis in eugen ? 93.161 . 107.169\n",
      "sorri if the word ' nonsens ' was offens to you . anyway , i'm not intend to write anyth in the articl ( wow they would jump on me for vandal ) , i'm mere request that it be more encycloped so one can use it for school as a refer . i have been to the select breed page but it almost a stub . it point to ' anim breed ' which is a short messi articl that give you no info . there must be someon around with expertis in eugen ? 93.161 . 107.169\n",
      "sorry if the word ' nonsens ' was offend to you . anyway , i'm not intend to writ anyth in the artic ( wow they would jump on me for vand ) , i'm mer request that it be mor encyclop so on can us it for school as a ref . i hav been to the select bree pag but it's almost a stub . it point to ' anim bree ' which is a short messy artic that giv you no info . ther must be someon around with expert in eug ? 93.161 . 107.169\n",
      "\n",
      "align on thi subject and which are contrari to those of dulithgow\n",
      "align on this subject and which are contrari to those of dulithgow\n",
      "align on thi subject and which ar cont to thos of dulithgow\n",
      "\n"
     ]
    }
   ],
   "source": [
    "for idx in range(10):\n",
    "    print(' '.join(X_train_porter.iloc[idx]))\n",
    "    print(' '.join(X_train_snowball.iloc[idx]))\n",
    "    print(' '.join(X_train_lancaster.iloc[idx]))\n",
    "    print('')"
   ]
  },
  {
   "cell_type": "code",
   "execution_count": null,
   "metadata": {
    "collapsed": true
   },
   "outputs": [],
   "source": []
  }
 ],
 "metadata": {
  "kernelspec": {
   "display_name": "Python 3",
   "language": "python",
   "name": "python3"
  },
  "language_info": {
   "codemirror_mode": {
    "name": "ipython",
    "version": 3
   },
   "file_extension": ".py",
   "mimetype": "text/x-python",
   "name": "python",
   "nbconvert_exporter": "python",
   "pygments_lexer": "ipython3",
   "version": "3.6.1"
  }
 },
 "nbformat": 4,
 "nbformat_minor": 2
}
