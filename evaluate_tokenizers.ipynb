{
 "cells": [
  {
   "cell_type": "code",
   "execution_count": 1,
   "metadata": {
    "collapsed": true
   },
   "outputs": [],
   "source": [
    "import pandas as pd"
   ]
  },
  {
   "cell_type": "markdown",
   "metadata": {},
   "source": [
    "Load training data"
   ]
  },
  {
   "cell_type": "code",
   "execution_count": 2,
   "metadata": {
    "collapsed": true
   },
   "outputs": [],
   "source": [
    "data_train = pd.read_csv('data/kaggle/train.csv')"
   ]
  },
  {
   "cell_type": "markdown",
   "metadata": {},
   "source": [
    "## Evaluate tokenizers\n",
    "\n",
    "To find a suitable tokenization model a number of them are qualitatively evaluated on the training data."
   ]
  },
  {
   "cell_type": "markdown",
   "metadata": {},
   "source": [
    "#### NLTK TweetTokenizer"
   ]
  },
  {
   "cell_type": "code",
   "execution_count": 3,
   "metadata": {},
   "outputs": [
    {
     "name": "stdout",
     "output_type": "stream",
     "text": [
      "Explanation\n",
      "Why the edits made under my username Hardcore Metallica Fan were reverted? They weren't vandalisms, just closure on some GAs after I voted at New York Dolls FAC. And please don't remove the template from the talk page since I'm retired now.89.205.38.27\n",
      "----------------------------------------------\n",
      "['Explanation', 'Why', 'the', 'edits', 'made', 'under', 'my', 'username', 'Hardcore', 'Metallica', 'Fan', 'were', 'reverted', '?', 'They', \"weren't\", 'vandalisms', ',', 'just', 'closure', 'on', 'some', 'GAs', 'after', 'I', 'voted', 'at', 'New', 'York', 'Dolls', 'FAC', '.', 'And', 'please', \"don't\", 'remove', 'the', 'template', 'from', 'the', 'talk', 'page', 'since', \"I'm\", 'retired', 'now', '.', '89.205', '.', '38.27']\n",
      "==============================================\n",
      "D'aww! He matches this background colour I'm seemingly stuck with. Thanks.  (talk) 21:51, January 11, 2016 (UTC)\n",
      "----------------------------------------------\n",
      "[\"D'aww\", '!', 'He', 'matches', 'this', 'background', 'colour', \"I'm\", 'seemingly', 'stuck', 'with', '.', 'Thanks', '.', '(', 'talk', ')', '21:51', ',', 'January', '11', ',', '2016', '(', 'UTC', ')']\n",
      "==============================================\n",
      "Hey man, I'm really not trying to edit war. It's just that this guy is constantly removing relevant information and talking to me through edits instead of my talk page. He seems to care more about the formatting than the actual info.\n",
      "----------------------------------------------\n",
      "['Hey', 'man', ',', \"I'm\", 'really', 'not', 'trying', 'to', 'edit', 'war', '.', \"It's\", 'just', 'that', 'this', 'guy', 'is', 'constantly', 'removing', 'relevant', 'information', 'and', 'talking', 'to', 'me', 'through', 'edits', 'instead', 'of', 'my', 'talk', 'page', '.', 'He', 'seems', 'to', 'care', 'more', 'about', 'the', 'formatting', 'than', 'the', 'actual', 'info', '.']\n",
      "==============================================\n",
      "\"\n",
      "More\n",
      "I can't make any real suggestions on improvement - I wondered if the section statistics should be later on, or a subsection of \"\"types of accidents\"\"  -I think the references may need tidying so that they are all in the exact same format ie date format etc. I can do that later on, if no-one else does first - if you have any preferences for formatting style on references or want to do it yourself please let me know.\n",
      "\n",
      "There appears to be a backlog on articles for review so I guess there may be a delay until a reviewer turns up. It's listed in the relevant form eg Wikipedia:Good_article_nominations#Transport  \"\n",
      "----------------------------------------------\n",
      "['\"', 'More', 'I', \"can't\", 'make', 'any', 'real', 'suggestions', 'on', 'improvement', '-', 'I', 'wondered', 'if', 'the', 'section', 'statistics', 'should', 'be', 'later', 'on', ',', 'or', 'a', 'subsection', 'of', '\"', '\"', 'types', 'of', 'accidents', '\"', '\"', '-', 'I', 'think', 'the', 'references', 'may', 'need', 'tidying', 'so', 'that', 'they', 'are', 'all', 'in', 'the', 'exact', 'same', 'format', 'ie', 'date', 'format', 'etc', '.', 'I', 'can', 'do', 'that', 'later', 'on', ',', 'if', 'no-one', 'else', 'does', 'first', '-', 'if', 'you', 'have', 'any', 'preferences', 'for', 'formatting', 'style', 'on', 'references', 'or', 'want', 'to', 'do', 'it', 'yourself', 'please', 'let', 'me', 'know', '.', 'There', 'appears', 'to', 'be', 'a', 'backlog', 'on', 'articles', 'for', 'review', 'so', 'I', 'guess', 'there', 'may', 'be', 'a', 'delay', 'until', 'a', 'reviewer', 'turns', 'up', '.', \"It's\", 'listed', 'in', 'the', 'relevant', 'form', 'eg', 'Wikipedia', ':', 'Good_article_nominations', '#Transport', '\"']\n",
      "==============================================\n",
      "You, sir, are my hero. Any chance you remember what page that's on?\n",
      "----------------------------------------------\n",
      "['You', ',', 'sir', ',', 'are', 'my', 'hero', '.', 'Any', 'chance', 'you', 'remember', 'what', 'page', \"that's\", 'on', '?']\n",
      "==============================================\n"
     ]
    },
    {
     "name": "stderr",
     "output_type": "stream",
     "text": [
      "/home/philipp/miniconda3/envs/tensorflow/lib/python3.6/site-packages/ipykernel_launcher.py:4: DeprecationWarning: \n",
      ".ix is deprecated. Please use\n",
      ".loc for label based indexing or\n",
      ".iloc for positional indexing\n",
      "\n",
      "See the documentation here:\n",
      "http://pandas.pydata.org/pandas-docs/stable/indexing.html#ix-indexer-is-deprecated\n",
      "  after removing the cwd from sys.path.\n"
     ]
    }
   ],
   "source": [
    "from nltk.tokenize import TweetTokenizer\n",
    "tknzr = TweetTokenizer()\n",
    "for i in range(5):\n",
    "    comment = data_train.ix[i, 'comment_text']\n",
    "    print(comment)\n",
    "    print('----------------------------------------------')\n",
    "    print(tknzr.tokenize(comment))\n",
    "    print('==============================================')"
   ]
  },
  {
   "cell_type": "markdown",
   "metadata": {},
   "source": [
    "#### Keras text_to_word_sequence with default filter\n",
    "This tokenizer is very basic and has a default filter set which removes punctuation and special characters."
   ]
  },
  {
   "cell_type": "code",
   "execution_count": 18,
   "metadata": {},
   "outputs": [
    {
     "name": "stdout",
     "output_type": "stream",
     "text": [
      "Explanation\n",
      "Why the edits made under my username Hardcore Metallica Fan were reverted? They weren't vandalisms, just closure on some GAs after I voted at New York Dolls FAC. And please don't remove the template from the talk page since I'm retired now.89.205.38.27\n",
      "----------------------------------------------\n",
      "['explanation', 'why', 'the', 'edits', 'made', 'under', 'my', 'username', 'hardcore', 'metallica', 'fan', 'were', 'reverted', 'they', \"weren't\", 'vandalisms', 'just', 'closure', 'on', 'some', 'gas', 'after', 'i', 'voted', 'at', 'new', 'york', 'dolls', 'fac', 'and', 'please', \"don't\", 'remove', 'the', 'template', 'from', 'the', 'talk', 'page', 'since', \"i'm\", 'retired', 'now', '89', '205', '38', '27']\n",
      "==============================================\n",
      "D'aww! He matches this background colour I'm seemingly stuck with. Thanks.  (talk) 21:51, January 11, 2016 (UTC)\n",
      "----------------------------------------------\n",
      "[\"d'aww\", 'he', 'matches', 'this', 'background', 'colour', \"i'm\", 'seemingly', 'stuck', 'with', 'thanks', 'talk', '21', '51', 'january', '11', '2016', 'utc']\n",
      "==============================================\n",
      "Hey man, I'm really not trying to edit war. It's just that this guy is constantly removing relevant information and talking to me through edits instead of my talk page. He seems to care more about the formatting than the actual info.\n",
      "----------------------------------------------\n",
      "['hey', 'man', \"i'm\", 'really', 'not', 'trying', 'to', 'edit', 'war', \"it's\", 'just', 'that', 'this', 'guy', 'is', 'constantly', 'removing', 'relevant', 'information', 'and', 'talking', 'to', 'me', 'through', 'edits', 'instead', 'of', 'my', 'talk', 'page', 'he', 'seems', 'to', 'care', 'more', 'about', 'the', 'formatting', 'than', 'the', 'actual', 'info']\n",
      "==============================================\n",
      "\"\n",
      "More\n",
      "I can't make any real suggestions on improvement - I wondered if the section statistics should be later on, or a subsection of \"\"types of accidents\"\"  -I think the references may need tidying so that they are all in the exact same format ie date format etc. I can do that later on, if no-one else does first - if you have any preferences for formatting style on references or want to do it yourself please let me know.\n",
      "\n",
      "There appears to be a backlog on articles for review so I guess there may be a delay until a reviewer turns up. It's listed in the relevant form eg Wikipedia:Good_article_nominations#Transport  \"\n",
      "----------------------------------------------\n",
      "['more', 'i', \"can't\", 'make', 'any', 'real', 'suggestions', 'on', 'improvement', 'i', 'wondered', 'if', 'the', 'section', 'statistics', 'should', 'be', 'later', 'on', 'or', 'a', 'subsection', 'of', 'types', 'of', 'accidents', 'i', 'think', 'the', 'references', 'may', 'need', 'tidying', 'so', 'that', 'they', 'are', 'all', 'in', 'the', 'exact', 'same', 'format', 'ie', 'date', 'format', 'etc', 'i', 'can', 'do', 'that', 'later', 'on', 'if', 'no', 'one', 'else', 'does', 'first', 'if', 'you', 'have', 'any', 'preferences', 'for', 'formatting', 'style', 'on', 'references', 'or', 'want', 'to', 'do', 'it', 'yourself', 'please', 'let', 'me', 'know', 'there', 'appears', 'to', 'be', 'a', 'backlog', 'on', 'articles', 'for', 'review', 'so', 'i', 'guess', 'there', 'may', 'be', 'a', 'delay', 'until', 'a', 'reviewer', 'turns', 'up', \"it's\", 'listed', 'in', 'the', 'relevant', 'form', 'eg', 'wikipedia', 'good', 'article', 'nominations', 'transport']\n",
      "==============================================\n",
      "You, sir, are my hero. Any chance you remember what page that's on?\n",
      "----------------------------------------------\n",
      "['you', 'sir', 'are', 'my', 'hero', 'any', 'chance', 'you', 'remember', 'what', 'page', \"that's\", 'on']\n",
      "==============================================\n"
     ]
    }
   ],
   "source": [
    "from keras.preprocessing.text import text_to_word_sequence\n",
    "for i in range(5):\n",
    "    comment = data_train.ix[i, 'comment_text']\n",
    "    print(comment)\n",
    "    print('----------------------------------------------')\n",
    "    print(text_to_word_sequence(comment))\n",
    "    print('==============================================')"
   ]
  },
  {
   "cell_type": "markdown",
   "metadata": {},
   "source": [
    "#### Keras text_to_word_sequence with default filter\n",
    "This tokenizer is very basic and no characters are removed. With this setting it does not recognize punctuation as separate tokens. Also, it does not remove the newline character."
   ]
  },
  {
   "cell_type": "code",
   "execution_count": 21,
   "metadata": {},
   "outputs": [
    {
     "name": "stdout",
     "output_type": "stream",
     "text": [
      "Explanation\n",
      "Why the edits made under my username Hardcore Metallica Fan were reverted? They weren't vandalisms, just closure on some GAs after I voted at New York Dolls FAC. And please don't remove the template from the talk page since I'm retired now.89.205.38.27\n",
      "----------------------------------------------\n",
      "['explanation\\nwhy', 'the', 'edits', 'made', 'under', 'my', 'username', 'hardcore', 'metallica', 'fan', 'were', 'reverted?', 'they', \"weren't\", 'vandalisms,', 'just', 'closure', 'on', 'some', 'gas', 'after', 'i', 'voted', 'at', 'new', 'york', 'dolls', 'fac.', 'and', 'please', \"don't\", 'remove', 'the', 'template', 'from', 'the', 'talk', 'page', 'since', \"i'm\", 'retired', 'now.89.205.38.27']\n",
      "==============================================\n",
      "D'aww! He matches this background colour I'm seemingly stuck with. Thanks.  (talk) 21:51, January 11, 2016 (UTC)\n",
      "----------------------------------------------\n",
      "[\"d'aww!\", 'he', 'matches', 'this', 'background', 'colour', \"i'm\", 'seemingly', 'stuck', 'with.', 'thanks.', '(talk)', '21:51,', 'january', '11,', '2016', '(utc)']\n",
      "==============================================\n",
      "Hey man, I'm really not trying to edit war. It's just that this guy is constantly removing relevant information and talking to me through edits instead of my talk page. He seems to care more about the formatting than the actual info.\n",
      "----------------------------------------------\n",
      "['hey', 'man,', \"i'm\", 'really', 'not', 'trying', 'to', 'edit', 'war.', \"it's\", 'just', 'that', 'this', 'guy', 'is', 'constantly', 'removing', 'relevant', 'information', 'and', 'talking', 'to', 'me', 'through', 'edits', 'instead', 'of', 'my', 'talk', 'page.', 'he', 'seems', 'to', 'care', 'more', 'about', 'the', 'formatting', 'than', 'the', 'actual', 'info.']\n",
      "==============================================\n",
      "\"\n",
      "More\n",
      "I can't make any real suggestions on improvement - I wondered if the section statistics should be later on, or a subsection of \"\"types of accidents\"\"  -I think the references may need tidying so that they are all in the exact same format ie date format etc. I can do that later on, if no-one else does first - if you have any preferences for formatting style on references or want to do it yourself please let me know.\n",
      "\n",
      "There appears to be a backlog on articles for review so I guess there may be a delay until a reviewer turns up. It's listed in the relevant form eg Wikipedia:Good_article_nominations#Transport  \"\n",
      "----------------------------------------------\n",
      "['\"\\nmore\\ni', \"can't\", 'make', 'any', 'real', 'suggestions', 'on', 'improvement', '-', 'i', 'wondered', 'if', 'the', 'section', 'statistics', 'should', 'be', 'later', 'on,', 'or', 'a', 'subsection', 'of', '\"\"types', 'of', 'accidents\"\"', '-i', 'think', 'the', 'references', 'may', 'need', 'tidying', 'so', 'that', 'they', 'are', 'all', 'in', 'the', 'exact', 'same', 'format', 'ie', 'date', 'format', 'etc.', 'i', 'can', 'do', 'that', 'later', 'on,', 'if', 'no-one', 'else', 'does', 'first', '-', 'if', 'you', 'have', 'any', 'preferences', 'for', 'formatting', 'style', 'on', 'references', 'or', 'want', 'to', 'do', 'it', 'yourself', 'please', 'let', 'me', 'know.\\n\\nthere', 'appears', 'to', 'be', 'a', 'backlog', 'on', 'articles', 'for', 'review', 'so', 'i', 'guess', 'there', 'may', 'be', 'a', 'delay', 'until', 'a', 'reviewer', 'turns', 'up.', \"it's\", 'listed', 'in', 'the', 'relevant', 'form', 'eg', 'wikipedia:good_article_nominations#transport', '\"']\n",
      "==============================================\n",
      "You, sir, are my hero. Any chance you remember what page that's on?\n",
      "----------------------------------------------\n",
      "['you,', 'sir,', 'are', 'my', 'hero.', 'any', 'chance', 'you', 'remember', 'what', 'page', \"that's\", 'on?']\n",
      "==============================================\n"
     ]
    }
   ],
   "source": [
    "from keras.preprocessing.text import text_to_word_sequence\n",
    "for i in range(5):\n",
    "    comment = data_train.ix[i, 'comment_text']\n",
    "    print(comment)\n",
    "    print('----------------------------------------------')\n",
    "    print(text_to_word_sequence(comment, filters=''))\n",
    "    print('==============================================')"
   ]
  },
  {
   "cell_type": "code",
   "execution_count": 4,
   "metadata": {},
   "outputs": [
    {
     "data": {
      "text/plain": [
       "['You',\n",
       " ',',\n",
       " 'sir',\n",
       " ',',\n",
       " 'are',\n",
       " 'my',\n",
       " 'hero',\n",
       " '.',\n",
       " 'Any',\n",
       " 'chance',\n",
       " 'you',\n",
       " 'remember',\n",
       " 'what',\n",
       " 'page',\n",
       " \"that's\",\n",
       " 'on',\n",
       " '?',\n",
       " ':-)']"
      ]
     },
     "execution_count": 4,
     "metadata": {},
     "output_type": "execute_result"
    }
   ],
   "source": [
    "tknzr.tokenize(\"You, sir, are my hero. Any chance you remember what page that's on? :-)\")"
   ]
  },
  {
   "cell_type": "code",
   "execution_count": null,
   "metadata": {
    "collapsed": true
   },
   "outputs": [],
   "source": []
  }
 ],
 "metadata": {
  "kernelspec": {
   "display_name": "Python 3",
   "language": "python",
   "name": "python3"
  },
  "language_info": {
   "codemirror_mode": {
    "name": "ipython",
    "version": 3
   },
   "file_extension": ".py",
   "mimetype": "text/x-python",
   "name": "python",
   "nbconvert_exporter": "python",
   "pygments_lexer": "ipython3",
   "version": "3.6.1"
  }
 },
 "nbformat": 4,
 "nbformat_minor": 2
}
