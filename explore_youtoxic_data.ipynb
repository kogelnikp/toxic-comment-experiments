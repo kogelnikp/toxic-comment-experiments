{
 "cells": [
  {
   "cell_type": "code",
   "execution_count": 1,
   "metadata": {
    "collapsed": true
   },
   "outputs": [],
   "source": [
    "import string\n",
    "import pandas as pd\n",
    "import matplotlib.pyplot as plt"
   ]
  },
  {
   "cell_type": "markdown",
   "metadata": {},
   "source": [
    "## Read training and testing data"
   ]
  },
  {
   "cell_type": "code",
   "execution_count": 2,
   "metadata": {},
   "outputs": [
    {
     "name": "stdout",
     "output_type": "stream",
     "text": [
      "Shape of train:  (1000, 15)\n"
     ]
    },
    {
     "data": {
      "text/html": [
       "<div>\n",
       "<style>\n",
       "    .dataframe thead tr:only-child th {\n",
       "        text-align: right;\n",
       "    }\n",
       "\n",
       "    .dataframe thead th {\n",
       "        text-align: left;\n",
       "    }\n",
       "\n",
       "    .dataframe tbody tr th {\n",
       "        vertical-align: top;\n",
       "    }\n",
       "</style>\n",
       "<table border=\"1\" class=\"dataframe\">\n",
       "  <thead>\n",
       "    <tr style=\"text-align: right;\">\n",
       "      <th></th>\n",
       "      <th>VideoId</th>\n",
       "      <th>UserId</th>\n",
       "      <th>Text</th>\n",
       "      <th>IsToxic</th>\n",
       "      <th>IsAbusive</th>\n",
       "      <th>IsThreat</th>\n",
       "      <th>IsProvocative</th>\n",
       "      <th>IsObscene</th>\n",
       "      <th>IsHatespeech</th>\n",
       "      <th>IsRacist</th>\n",
       "      <th>IsNationalist</th>\n",
       "      <th>IsSexist</th>\n",
       "      <th>IsHomophobic</th>\n",
       "      <th>IsReligiousHate</th>\n",
       "      <th>IsRadicalism</th>\n",
       "    </tr>\n",
       "    <tr>\n",
       "      <th>CommentId</th>\n",
       "      <th></th>\n",
       "      <th></th>\n",
       "      <th></th>\n",
       "      <th></th>\n",
       "      <th></th>\n",
       "      <th></th>\n",
       "      <th></th>\n",
       "      <th></th>\n",
       "      <th></th>\n",
       "      <th></th>\n",
       "      <th></th>\n",
       "      <th></th>\n",
       "      <th></th>\n",
       "      <th></th>\n",
       "      <th></th>\n",
       "    </tr>\n",
       "  </thead>\n",
       "  <tbody>\n",
       "    <tr>\n",
       "      <th>Ugg2KwwX0V8-aXgCoAEC</th>\n",
       "      <td>04kJtp6pVXI</td>\n",
       "      <td>a92f0f20-80fa-4456-af09-34bfe13803fa</td>\n",
       "      <td>If only people would just take a step back and...</td>\n",
       "      <td>False</td>\n",
       "      <td>False</td>\n",
       "      <td>False</td>\n",
       "      <td>False</td>\n",
       "      <td>False</td>\n",
       "      <td>False</td>\n",
       "      <td>False</td>\n",
       "      <td>False</td>\n",
       "      <td>False</td>\n",
       "      <td>False</td>\n",
       "      <td>False</td>\n",
       "      <td>False</td>\n",
       "    </tr>\n",
       "    <tr>\n",
       "      <th>Ugg2s5AzSPioEXgCoAEC</th>\n",
       "      <td>04kJtp6pVXI</td>\n",
       "      <td>a92f0f20-80fa-4456-af09-34bfe13803fa</td>\n",
       "      <td>Law enforcement is not trained to shoot to app...</td>\n",
       "      <td>True</td>\n",
       "      <td>True</td>\n",
       "      <td>False</td>\n",
       "      <td>False</td>\n",
       "      <td>False</td>\n",
       "      <td>False</td>\n",
       "      <td>False</td>\n",
       "      <td>False</td>\n",
       "      <td>False</td>\n",
       "      <td>False</td>\n",
       "      <td>False</td>\n",
       "      <td>False</td>\n",
       "    </tr>\n",
       "    <tr>\n",
       "      <th>Ugg3dWTOxryFfHgCoAEC</th>\n",
       "      <td>04kJtp6pVXI</td>\n",
       "      <td>a92f0f20-80fa-4456-af09-34bfe13803fa</td>\n",
       "      <td>\\nDont you reckon them 'black lives matter' ba...</td>\n",
       "      <td>True</td>\n",
       "      <td>True</td>\n",
       "      <td>False</td>\n",
       "      <td>False</td>\n",
       "      <td>True</td>\n",
       "      <td>False</td>\n",
       "      <td>False</td>\n",
       "      <td>False</td>\n",
       "      <td>False</td>\n",
       "      <td>False</td>\n",
       "      <td>False</td>\n",
       "      <td>False</td>\n",
       "    </tr>\n",
       "    <tr>\n",
       "      <th>Ugg7Gd006w1MPngCoAEC</th>\n",
       "      <td>04kJtp6pVXI</td>\n",
       "      <td>a92f0f20-80fa-4456-af09-34bfe13803fa</td>\n",
       "      <td>There are a very large number of people who do...</td>\n",
       "      <td>False</td>\n",
       "      <td>False</td>\n",
       "      <td>False</td>\n",
       "      <td>False</td>\n",
       "      <td>False</td>\n",
       "      <td>False</td>\n",
       "      <td>False</td>\n",
       "      <td>False</td>\n",
       "      <td>False</td>\n",
       "      <td>False</td>\n",
       "      <td>False</td>\n",
       "      <td>False</td>\n",
       "    </tr>\n",
       "    <tr>\n",
       "      <th>Ugg8FfTbbNF8IngCoAEC</th>\n",
       "      <td>04kJtp6pVXI</td>\n",
       "      <td>a92f0f20-80fa-4456-af09-34bfe13803fa</td>\n",
       "      <td>The Arab dude is absolutely right, he should h...</td>\n",
       "      <td>False</td>\n",
       "      <td>False</td>\n",
       "      <td>False</td>\n",
       "      <td>False</td>\n",
       "      <td>False</td>\n",
       "      <td>False</td>\n",
       "      <td>False</td>\n",
       "      <td>False</td>\n",
       "      <td>False</td>\n",
       "      <td>False</td>\n",
       "      <td>False</td>\n",
       "      <td>False</td>\n",
       "    </tr>\n",
       "  </tbody>\n",
       "</table>\n",
       "</div>"
      ],
      "text/plain": [
       "                          VideoId                                UserId  \\\n",
       "CommentId                                                                 \n",
       "Ugg2KwwX0V8-aXgCoAEC  04kJtp6pVXI  a92f0f20-80fa-4456-af09-34bfe13803fa   \n",
       "Ugg2s5AzSPioEXgCoAEC  04kJtp6pVXI  a92f0f20-80fa-4456-af09-34bfe13803fa   \n",
       "Ugg3dWTOxryFfHgCoAEC  04kJtp6pVXI  a92f0f20-80fa-4456-af09-34bfe13803fa   \n",
       "Ugg7Gd006w1MPngCoAEC  04kJtp6pVXI  a92f0f20-80fa-4456-af09-34bfe13803fa   \n",
       "Ugg8FfTbbNF8IngCoAEC  04kJtp6pVXI  a92f0f20-80fa-4456-af09-34bfe13803fa   \n",
       "\n",
       "                                                                   Text  \\\n",
       "CommentId                                                                 \n",
       "Ugg2KwwX0V8-aXgCoAEC  If only people would just take a step back and...   \n",
       "Ugg2s5AzSPioEXgCoAEC  Law enforcement is not trained to shoot to app...   \n",
       "Ugg3dWTOxryFfHgCoAEC  \\nDont you reckon them 'black lives matter' ba...   \n",
       "Ugg7Gd006w1MPngCoAEC  There are a very large number of people who do...   \n",
       "Ugg8FfTbbNF8IngCoAEC  The Arab dude is absolutely right, he should h...   \n",
       "\n",
       "                      IsToxic  IsAbusive  IsThreat  IsProvocative  IsObscene  \\\n",
       "CommentId                                                                      \n",
       "Ugg2KwwX0V8-aXgCoAEC    False      False     False          False      False   \n",
       "Ugg2s5AzSPioEXgCoAEC     True       True     False          False      False   \n",
       "Ugg3dWTOxryFfHgCoAEC     True       True     False          False       True   \n",
       "Ugg7Gd006w1MPngCoAEC    False      False     False          False      False   \n",
       "Ugg8FfTbbNF8IngCoAEC    False      False     False          False      False   \n",
       "\n",
       "                      IsHatespeech  IsRacist  IsNationalist  IsSexist  \\\n",
       "CommentId                                                               \n",
       "Ugg2KwwX0V8-aXgCoAEC         False     False          False     False   \n",
       "Ugg2s5AzSPioEXgCoAEC         False     False          False     False   \n",
       "Ugg3dWTOxryFfHgCoAEC         False     False          False     False   \n",
       "Ugg7Gd006w1MPngCoAEC         False     False          False     False   \n",
       "Ugg8FfTbbNF8IngCoAEC         False     False          False     False   \n",
       "\n",
       "                      IsHomophobic  IsReligiousHate  IsRadicalism  \n",
       "CommentId                                                          \n",
       "Ugg2KwwX0V8-aXgCoAEC         False            False         False  \n",
       "Ugg2s5AzSPioEXgCoAEC         False            False         False  \n",
       "Ugg3dWTOxryFfHgCoAEC         False            False         False  \n",
       "Ugg7Gd006w1MPngCoAEC         False            False         False  \n",
       "Ugg8FfTbbNF8IngCoAEC         False            False         False  "
      ]
     },
     "execution_count": 2,
     "metadata": {},
     "output_type": "execute_result"
    }
   ],
   "source": [
    "data_train = pd.read_csv('data/youtoxic/youtoxic.csv', index_col=0)\n",
    "print('Shape of train: ', data_train.shape)\n",
    "data_train.head()"
   ]
  },
  {
   "cell_type": "markdown",
   "metadata": {},
   "source": [
    "## Explore data"
   ]
  },
  {
   "cell_type": "markdown",
   "metadata": {},
   "source": [
    "How many examples of each category do we have?"
   ]
  },
  {
   "cell_type": "code",
   "execution_count": 4,
   "metadata": {},
   "outputs": [
    {
     "name": "stdout",
     "output_type": "stream",
     "text": [
      "Train set:\n",
      "no label\t 538\n",
      "IsToxic         462\n",
      "IsAbusive       353\n",
      "IsHatespeech    138\n",
      "dtype: int64\n"
     ]
    }
   ],
   "source": [
    "category_cols = ['IsToxic','IsAbusive','IsHatespeech']\n",
    "num_toxic_comments = data_train[category_cols].astype(bool).sum(axis=0)\n",
    "untoxic_comments = data_train[category_cols].astype(bool).sum(axis=1)\n",
    "num_untoxic_comments = untoxic_comments[untoxic_comments == 0].count()\n",
    "print('Train set:')\n",
    "print('no label\\t', num_untoxic_comments)\n",
    "print(num_toxic_comments)"
   ]
  },
  {
   "cell_type": "markdown",
   "metadata": {},
   "source": [
    "How long are the comments in the training set?"
   ]
  },
  {
   "cell_type": "code",
   "execution_count": 6,
   "metadata": {},
   "outputs": [
    {
     "name": "stdout",
     "output_type": "stream",
     "text": [
      "Mean length:  185.554\n",
      "Median length:  101.0\n",
      "Maximum length:  4421\n",
      "Minimum length:  3\n"
     ]
    },
    {
     "data": {
      "image/png": "[encoded data removed]",
      "text/plain": [
       "<Figure size 432x288 with 1 Axes>"
      ]
     },
     "metadata": {},
     "output_type": "display_data"
    }
   ],
   "source": [
    "comment_lengths = data_train['Text'].apply(lambda x: len(x))\n",
    "print('Mean length: ', comment_lengths.mean())\n",
    "print('Median length: ', comment_lengths.median())\n",
    "print('Maximum length: ', max(comment_lengths))\n",
    "print('Minimum length: ', min(comment_lengths))\n",
    "\n",
    "comment_lengths.hist(bins=100)\n",
    "plt.title('histogram of number of characters per comment in training set')\n",
    "plt.xlabel('# characters')\n",
    "plt.ylabel('# occurrences')\n",
    "plt.xlim(0,2000)\n",
    "plt.show()"
   ]
  },
  {
   "cell_type": "markdown",
   "metadata": {
    "collapsed": true
   },
   "source": [
    "What is the rate of punctuation compared to all characters in a comment?"
   ]
  },
  {
   "cell_type": "code",
   "execution_count": 7,
   "metadata": {},
   "outputs": [
    {
     "name": "stdout",
     "output_type": "stream",
     "text": [
      "Mean punctuation rate:  0.03897705041519279\n",
      "Median punctuation rate:  0.02786814514389265\n",
      "Maximum punctuation rate:  0.7857142857142857\n",
      "Minimum punctuation rate:  0.0\n"
     ]
    },
    {
     "data": {
      "image/png": "[encoded data removed]",
      "text/plain": [
       "<Figure size 432x288 with 1 Axes>"
      ]
     },
     "metadata": {},
     "output_type": "display_data"
    }
   ],
   "source": [
    "count_occurences = lambda c, l: sum([1 for x in c if x in l])\n",
    "num_of_punctuation = data_train['Text'].apply(lambda x: count_occurences(x, string.punctuation))\n",
    "\n",
    "punctuation_rates = (num_of_punctuation / comment_lengths)\n",
    "\n",
    "print('Mean punctuation rate: ', punctuation_rates.mean())\n",
    "print('Median punctuation rate: ', punctuation_rates.median())\n",
    "print('Maximum punctuation rate: ', max(punctuation_rates))\n",
    "print('Minimum punctuation rate: ', min(punctuation_rates))\n",
    "\n",
    "punctuation_rates.hist(bins=100)\n",
    "plt.title('histogram of punctuation in data')\n",
    "plt.xlabel('punctuation rate')\n",
    "plt.xlim(0, 0.4)\n",
    "plt.ylabel('# occurrences')\n",
    "plt.show()"
   ]
  },
  {
   "cell_type": "markdown",
   "metadata": {},
   "source": [
    "How many exclamation marks in the training set?"
   ]
  },
  {
   "cell_type": "code",
   "execution_count": 8,
   "metadata": {},
   "outputs": [
    {
     "name": "stdout",
     "output_type": "stream",
     "text": [
      "Mean #exclamation marks:  0.36\n",
      "Median #exclamation marks:  0.0\n",
      "Maximum #exclamation marks:  12\n",
      "Minimum #exclamation marks:  0\n"
     ]
    },
    {
     "data": {
      "image/png": "[encoded data removed]",
      "text/plain": [
       "<Figure size 432x288 with 1 Axes>"
      ]
     },
     "metadata": {},
     "output_type": "display_data"
    }
   ],
   "source": [
    "num_of_exclamation_marks = data_train['Text'].apply(lambda x: count_occurences(x, '!'))\n",
    "print('Mean #exclamation marks: ', num_of_exclamation_marks.mean())\n",
    "print('Median #exclamation marks: ', num_of_exclamation_marks.median())\n",
    "print('Maximum #exclamation marks: ', max(num_of_exclamation_marks))\n",
    "print('Minimum #exclamation marks: ', min(num_of_exclamation_marks))\n",
    "\n",
    "num_of_exclamation_marks[num_of_exclamation_marks < 50].hist(bins=50)\n",
    "plt.title('histogram of exclamation marks in data')\n",
    "plt.xlabel('# exclamation marks')\n",
    "plt.xlim(0, 10)\n",
    "plt.ylabel('# occurrences')\n",
    "plt.show()"
   ]
  },
  {
   "cell_type": "code",
   "execution_count": 9,
   "metadata": {},
   "outputs": [
    {
     "name": "stdout",
     "output_type": "stream",
     "text": [
      "Mean uppercase rate:  0.0528358178563129\n",
      "Median uppercase rate:  0.02526326986490799\n",
      "Maximum uppercase rate:  0.875\n",
      "Minimum uppercase rate:  0.0\n"
     ]
    },
    {
     "data": {
      "image/png": "[encoded data removed]",
      "text/plain": [
       "<Figure size 432x288 with 1 Axes>"
      ]
     },
     "metadata": {},
     "output_type": "display_data"
    },
    {
     "data": {
      "text/plain": [
       "CommentId\n",
       "Ugg2KwwX0V8-aXgCoAEC    0.014121\n",
       "Ugg2s5AzSPioEXgCoAEC    0.036232\n",
       "Ugg3dWTOxryFfHgCoAEC    0.002381\n",
       "Ugg7Gd006w1MPngCoAEC    0.015464\n",
       "Ugg8FfTbbNF8IngCoAEC    0.020576\n",
       "Name: Text, dtype: float64"
      ]
     },
     "execution_count": 9,
     "metadata": {},
     "output_type": "execute_result"
    }
   ],
   "source": [
    "count_uppercase = lambda c: sum([1 for x in c if x.isupper()])\n",
    "number_uppercase_characters = data_train['Text'].apply(lambda x: count_uppercase(x))\n",
    "uppercase_rate = (number_uppercase_characters / comment_lengths)\n",
    "print('Mean uppercase rate: ', uppercase_rate.mean())\n",
    "print('Median uppercase rate: ', uppercase_rate.median())\n",
    "print('Maximum uppercase rate: ', max(uppercase_rate))\n",
    "print('Minimum uppercase rate: ', min(uppercase_rate))\n",
    "\n",
    "uppercase_rate.hist(bins=100)\n",
    "plt.title('histogram of uppercase rate in data')\n",
    "plt.xlabel('uppercase rate')\n",
    "plt.ylabel('# occurrences')\n",
    "plt.show()\n",
    "uppercase_rate.head()"
   ]
  },
  {
   "cell_type": "markdown",
   "metadata": {},
   "source": [
    "## Examples for every category in the data"
   ]
  },
  {
   "cell_type": "code",
   "execution_count": 13,
   "metadata": {},
   "outputs": [
    {
     "data": {
      "text/plain": [
       "CommentId\n",
       "Ugg2s5AzSPioEXgCoAEC    Law enforcement is not trained to shoot to app...\n",
       "Ugg3dWTOxryFfHgCoAEC    \\nDont you reckon them 'black lives matter' ba...\n",
       "Ugg9a6FtoXdxmXgCoAEC    here people his facebook is https://www.facebo...\n",
       "Name: Text, dtype: object"
      ]
     },
     "execution_count": 13,
     "metadata": {},
     "output_type": "execute_result"
    }
   ],
   "source": [
    "data_train[data_train['IsToxic'] == 1]['Text'].head(3)"
   ]
  },
  {
   "cell_type": "code",
   "execution_count": 14,
   "metadata": {},
   "outputs": [
    {
     "data": {
      "text/plain": [
       "CommentId\n",
       "Ugg2s5AzSPioEXgCoAEC    Law enforcement is not trained to shoot to app...\n",
       "Ugg3dWTOxryFfHgCoAEC    \\nDont you reckon them 'black lives matter' ba...\n",
       "UggBlIXoph7p-3gCoAEC    I would LOVE to see this pussy go to Staten Is...\n",
       "Name: Text, dtype: object"
      ]
     },
     "execution_count": 14,
     "metadata": {},
     "output_type": "execute_result"
    }
   ],
   "source": [
    "data_train[data_train['IsAbusive'] == 1]['Text'].head(3)"
   ]
  },
  {
   "cell_type": "code",
   "execution_count": 15,
   "metadata": {},
   "outputs": [
    {
     "data": {
      "text/plain": [
       "CommentId\n",
       "Ugg9a6FtoXdxmXgCoAEC    here people his facebook is https://www.facebo...\n",
       "Ugga9KzkNDGvlXgCoAEC    Check out this you tube post. \"Black man goes ...\n",
       "UggBlIXoph7p-3gCoAEC    I would LOVE to see this pussy go to Staten Is...\n",
       "Name: Text, dtype: object"
      ]
     },
     "execution_count": 15,
     "metadata": {},
     "output_type": "execute_result"
    }
   ],
   "source": [
    "data_train[data_train['IsHatespeech'] == 1]['Text'].head(3)"
   ]
  },
  {
   "cell_type": "code",
   "execution_count": null,
   "metadata": {
    "collapsed": true
   },
   "outputs": [],
   "source": []
  }
 ],
 "metadata": {
  "kernelspec": {
   "display_name": "Python 3",
   "language": "python",
   "name": "python3"
  },
  "language_info": {
   "codemirror_mode": {
    "name": "ipython",
    "version": 3
   },
   "file_extension": ".py",
   "mimetype": "text/x-python",
   "name": "python",
   "nbconvert_exporter": "python",
   "pygments_lexer": "ipython3",
   "version": "3.6.1"
  }
 },
 "nbformat": 4,
 "nbformat_minor": 2
}
