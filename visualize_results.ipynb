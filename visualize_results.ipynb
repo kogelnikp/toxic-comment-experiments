{
 "cells": [
  {
   "cell_type": "code",
   "execution_count": 2,
   "metadata": {
    "collapsed": true
   },
   "outputs": [],
   "source": [
    "import numpy as np\n",
    "import pandas as pd\n",
    "import matplotlib.pyplot as plt\n",
    "from matplotlib.ticker import MaxNLocator\n",
    "from enum import Enum\n",
    "%matplotlib inline"
   ]
  },
  {
   "cell_type": "code",
   "execution_count": 3,
   "metadata": {
    "collapsed": true
   },
   "outputs": [],
   "source": [
    "class Labels(Enum):\n",
    "    ALL = 0,\n",
    "    TOXIC = 1,\n",
    "    SEVERE_TOXIC = 2,\n",
    "    OBSCENE = 3,\n",
    "    THREAT = 4,\n",
    "    INSULT = 5,\n",
    "    IDENTITY_HATE = 6\n",
    "    \n",
    "class YoutoxicLabels(Enum):\n",
    "    ALL = 0,\n",
    "    TOXIC = 1,\n",
    "    ABUSIVE = 2,\n",
    "    HATE_SPEECH = 3\n",
    "\n",
    "class DataSets(Enum):\n",
    "    TRAIN = 0,\n",
    "    VALIDATION = 1\n",
    "\n",
    "class Metrics(Enum):\n",
    "    ROC_AUC = 0,\n",
    "    F1 = 1"
   ]
  },
  {
   "cell_type": "code",
   "execution_count": 4,
   "metadata": {
    "collapsed": true
   },
   "outputs": [],
   "source": [
    "def calculate_mean_std(eval_scores, data_set, label, metric):\n",
    "    current_scores = eval_scores[:, data_set.value, :, label.value, metric.value]\n",
    "    if current_scores.ndim == 3:\n",
    "        best_epochs = current_scores.max(axis=2)\n",
    "    elif current_scores.ndim == 2:\n",
    "        best_epochs = current_scores.max(axis=1)\n",
    "    #print(best_epochs.shape)\n",
    "    return best_epochs.mean(), best_epochs.std()\n",
    "\n",
    "def calculated_all_metrics(scores):\n",
    "    roc_all_mean, roc_all_std = calculate_mean_std(scores, DataSets.VALIDATION, Labels.ALL, Metrics.ROC_AUC)\n",
    "    roc_c1_mean, roc_c1_std = calculate_mean_std(scores, DataSets.VALIDATION, Labels.TOXIC, Metrics.ROC_AUC)\n",
    "    roc_c2_mean, roc_c2_std = calculate_mean_std(scores, DataSets.VALIDATION, Labels.SEVERE_TOXIC, Metrics.ROC_AUC)\n",
    "    roc_c3_mean, roc_c3_std = calculate_mean_std(scores, DataSets.VALIDATION, Labels.OBSCENE, Metrics.ROC_AUC)\n",
    "    roc_c4_mean, roc_c4_std = calculate_mean_std(scores, DataSets.VALIDATION, Labels.THREAT, Metrics.ROC_AUC)\n",
    "    roc_c5_mean, roc_c5_std = calculate_mean_std(scores, DataSets.VALIDATION, Labels.INSULT, Metrics.ROC_AUC)\n",
    "    roc_c6_mean, roc_c6_std = calculate_mean_std(scores, DataSets.VALIDATION, Labels.IDENTITY_HATE, Metrics.ROC_AUC)\n",
    "    f1_all_mean, f1_all_std = calculate_mean_std(scores, DataSets.VALIDATION, Labels.ALL, Metrics.F1)\n",
    "    f1_c1_mean, f1_c1_std = calculate_mean_std(scores, DataSets.VALIDATION, Labels.TOXIC, Metrics.F1)\n",
    "    f1_c2_mean, f1_c2_std = calculate_mean_std(scores, DataSets.VALIDATION, Labels.SEVERE_TOXIC, Metrics.F1)\n",
    "    f1_c3_mean, f1_c3_std = calculate_mean_std(scores, DataSets.VALIDATION, Labels.OBSCENE, Metrics.F1)\n",
    "    f1_c4_mean, f1_c4_std = calculate_mean_std(scores, DataSets.VALIDATION, Labels.THREAT, Metrics.F1)\n",
    "    f1_c5_mean, f1_c5_std = calculate_mean_std(scores, DataSets.VALIDATION, Labels.INSULT, Metrics.F1)\n",
    "    f1_c6_mean, f1_c6_std = calculate_mean_std(scores, DataSets.VALIDATION, Labels.IDENTITY_HATE, Metrics.F1)\n",
    "    \n",
    "    print(\"ROC AUC over 5 runs:\")\n",
    "    print(\"{:20s} {:.4f} ±{:.4f}\".format('All labels:', roc_all_mean, roc_all_std))\n",
    "    print(\"{:20s} {:.4f} ±{:.4f}\".format('Toxic:', roc_c1_mean, roc_c1_std))\n",
    "    print(\"{:20s} {:.4f} ±{:.4f}\".format('Severe toxic:', roc_c2_mean, roc_c2_std))\n",
    "    print(\"{:20s} {:.4f} ±{:.4f}\".format('Obscene:', roc_c3_mean, roc_c3_std))\n",
    "    print(\"{:20s} {:.4f} ±{:.4f}\".format('Threat:', roc_c4_mean, roc_c4_std))\n",
    "    print(\"{:20s} {:.4f} ±{:.4f}\".format('Insult:', roc_c5_mean, roc_c5_std))\n",
    "    print(\"{:20s} {:.4f} ±{:.4f}\".format('Identity hate:', roc_c6_mean, roc_c6_std))\n",
    "    print(\"F1 over 5 runs:\")\n",
    "    print(\"{:20s} {:.4f} ±{:.4f}\".format('All labels:', f1_all_mean, f1_all_std))\n",
    "    print(\"{:20s} {:.4f} ±{:.4f}\".format('Toxic:', f1_c1_mean, f1_c1_std))\n",
    "    print(\"{:20s} {:.4f} ±{:.4f}\".format('Severe toxic:', f1_c2_mean, f1_c2_std))\n",
    "    print(\"{:20s} {:.4f} ±{:.4f}\".format('Obscene:', f1_c3_mean, f1_c3_std))\n",
    "    print(\"{:20s} {:.4f} ±{:.4f}\".format('Threat:', f1_c4_mean, f1_c4_std))\n",
    "    print(\"{:20s} {:.4f} ±{:.4f}\".format('Insult:', f1_c5_mean, f1_c5_std))\n",
    "    print(\"{:20s} {:.4f} ±{:.4f}\".format('Identity hate:', f1_c6_mean, f1_c6_std))\n",
    "    \n",
    "def calculate_all_youtoxic_metrics(scores):\n",
    "    roc_all_mean, roc_all_std = calculate_mean_std(scores, DataSets.VALIDATION, YoutoxicLabels.ALL, Metrics.ROC_AUC)\n",
    "    roc_c1_mean, roc_c1_std = calculate_mean_std(scores, DataSets.VALIDATION, YoutoxicLabels.TOXIC, Metrics.ROC_AUC)\n",
    "    roc_c2_mean, roc_c2_std = calculate_mean_std(scores, DataSets.VALIDATION, YoutoxicLabels.ABUSIVE, Metrics.ROC_AUC)\n",
    "    roc_c3_mean, roc_c3_std = calculate_mean_std(scores, DataSets.VALIDATION, YoutoxicLabels.HATE_SPEECH, Metrics.ROC_AUC)    \n",
    "    f1_all_mean, f1_all_std = calculate_mean_std(scores, DataSets.VALIDATION, YoutoxicLabels.ALL, Metrics.F1)\n",
    "    f1_c1_mean, f1_c1_std = calculate_mean_std(scores, DataSets.VALIDATION, YoutoxicLabels.TOXIC, Metrics.F1)\n",
    "    f1_c2_mean, f1_c2_std = calculate_mean_std(scores, DataSets.VALIDATION, YoutoxicLabels.ABUSIVE, Metrics.F1)\n",
    "    f1_c3_mean, f1_c3_std = calculate_mean_std(scores, DataSets.VALIDATION, YoutoxicLabels.HATE_SPEECH, Metrics.F1)\n",
    "    \n",
    "    print(\"ROC AUC over 5 runs:\")\n",
    "    print(\"{:20s} {:.4f} ±{:.4f}\".format('All labels:', roc_all_mean, roc_all_std))\n",
    "    print(\"{:20s} {:.4f} ±{:.4f}\".format('Toxic:', roc_c1_mean, roc_c1_std))\n",
    "    print(\"{:20s} {:.4f} ±{:.4f}\".format('Severe toxic:', roc_c2_mean, roc_c2_std))\n",
    "    print(\"{:20s} {:.4f} ±{:.4f}\".format('Obscene:', roc_c3_mean, roc_c3_std))\n",
    "    print(\"F1 over 5 runs:\")\n",
    "    print(\"{:20s} {:.4f} ±{:.4f}\".format('All labels:', f1_all_mean, f1_all_std))\n",
    "    print(\"{:20s} {:.4f} ±{:.4f}\".format('Toxic:', f1_c1_mean, f1_c1_std))\n",
    "    print(\"{:20s} {:.4f} ±{:.4f}\".format('Severe toxic:', f1_c2_mean, f1_c2_std))\n",
    "    print(\"{:20s} {:.4f} ±{:.4f}\".format('Obscene:', f1_c3_mean, f1_c3_std))\n",
    "\n",
    "def plot_learningcurve(scores, label, metric):\n",
    "    train_scores = scores[:, DataSets.TRAIN.value, :, label.value, metric.value].mean(axis=1)\n",
    "    val_scores = scores[:, DataSets.VALIDATION.value, :, label.value, metric.value].mean(axis=1)\n",
    "    fig = plt.figure()\n",
    "    ax = fig.add_subplot(111)\n",
    "    ax.xaxis.set_major_locator(MaxNLocator(integer=True))\n",
    "    ax.plot(range(1,len(val_scores[0])+1),val_scores[0])\n",
    "    ax.plot(range(1,len(val_scores[0])+1),train_scores[0])\n",
    "    fig.show()"
   ]
  },
  {
   "cell_type": "markdown",
   "metadata": {},
   "source": [
    "# CNN Architecture Experiments"
   ]
  },
  {
   "cell_type": "markdown",
   "metadata": {},
   "source": [
    "### Singlelayer CNN"
   ]
  },
  {
   "cell_type": "code",
   "execution_count": 38,
   "metadata": {},
   "outputs": [
    {
     "data": {
      "text/plain": [
       "(5, 2, 5, 7, 2)"
      ]
     },
     "execution_count": 38,
     "metadata": {},
     "output_type": "execute_result"
    }
   ],
   "source": [
    "ex1_scores = np.load('data/scores/cnn_simple/scores_1543539380.5547197.npy')\n",
    "ex1_scores.shape"
   ]
  },
  {
   "cell_type": "code",
   "execution_count": 39,
   "metadata": {},
   "outputs": [
    {
     "name": "stdout",
     "output_type": "stream",
     "text": [
      "ROC AUC over 5 runs:\n",
      "All labels:          0.9790 ±0.0003\n",
      "Toxic:               0.9631 ±0.0007\n",
      "Severe toxic:        0.9863 ±0.0008\n",
      "Obscene:             0.9764 ±0.0006\n",
      "Threat:              0.9849 ±0.0027\n",
      "Insult:              0.9715 ±0.0006\n",
      "Identity hate:       0.9768 ±0.0016\n",
      "F1 over 5 runs:\n",
      "All labels:          0.6398 ±0.0045\n",
      "Toxic:               0.6728 ±0.0054\n",
      "Severe toxic:        0.3369 ±0.0086\n",
      "Obscene:             0.6855 ±0.0045\n",
      "Threat:              0.4349 ±0.0421\n",
      "Insult:              0.6564 ±0.0070\n",
      "Identity hate:       0.5537 ±0.0101\n"
     ]
    },
    {
     "name": "stderr",
     "output_type": "stream",
     "text": [
      "/home/philipp/miniconda3/envs/tensorflow/lib/python3.6/site-packages/matplotlib/figure.py:445: UserWarning: Matplotlib is currently using module://ipykernel.pylab.backend_inline, which is a non-GUI backend, so cannot show the figure.\n",
      "  % get_backend())\n"
     ]
    },
    {
     "data": {
      "image/png": "[encoded data removed]",
      "text/plain": [
       "<Figure size 432x288 with 1 Axes>"
      ]
     },
     "metadata": {},
     "output_type": "display_data"
    }
   ],
   "source": [
    "calculated_all_metrics(ex1_scores)\n",
    "plot_learningcurve(ex1_scores, Labels.ALL, Metrics.ROC_AUC)"
   ]
  },
  {
   "cell_type": "markdown",
   "metadata": {},
   "source": [
    "### Singlelayer CNN with multiple window sizes"
   ]
  },
  {
   "cell_type": "code",
   "execution_count": 40,
   "metadata": {},
   "outputs": [
    {
     "data": {
      "text/plain": [
       "(5, 2, 5, 7, 2)"
      ]
     },
     "execution_count": 40,
     "metadata": {},
     "output_type": "execute_result"
    }
   ],
   "source": [
    "ex2_scores = np.load('data/scores/cnn_multiwindowsizes/scores_1543641482.1065862.npy')\n",
    "ex2_scores.shape"
   ]
  },
  {
   "cell_type": "code",
   "execution_count": 41,
   "metadata": {},
   "outputs": [
    {
     "name": "stdout",
     "output_type": "stream",
     "text": [
      "ROC AUC over 5 runs:\n",
      "All labels:          0.9790 ±0.0006\n",
      "Toxic:               0.9631 ±0.0007\n",
      "Severe toxic:        0.9869 ±0.0006\n",
      "Obscene:             0.9756 ±0.0003\n",
      "Threat:              0.9848 ±0.0010\n",
      "Insult:              0.9709 ±0.0010\n",
      "Identity hate:       0.9767 ±0.0008\n",
      "F1 over 5 runs:\n",
      "All labels:          0.6401 ±0.0072\n",
      "Toxic:               0.6710 ±0.0108\n",
      "Severe toxic:        0.3568 ±0.0398\n",
      "Obscene:             0.6836 ±0.0044\n",
      "Threat:              0.4110 ±0.0366\n",
      "Insult:              0.6549 ±0.0051\n",
      "Identity hate:       0.5536 ±0.0135\n"
     ]
    },
    {
     "name": "stderr",
     "output_type": "stream",
     "text": [
      "/home/philipp/miniconda3/envs/tensorflow/lib/python3.6/site-packages/matplotlib/figure.py:445: UserWarning: Matplotlib is currently using module://ipykernel.pylab.backend_inline, which is a non-GUI backend, so cannot show the figure.\n",
      "  % get_backend())\n"
     ]
    },
    {
     "data": {
      "image/png": "[encoded data removed]",
      "text/plain": [
       "<Figure size 432x288 with 1 Axes>"
      ]
     },
     "metadata": {},
     "output_type": "display_data"
    }
   ],
   "source": [
    "calculated_all_metrics(ex2_scores)\n",
    "plot_learningcurve(ex2_scores, Labels.ALL, Metrics.ROC_AUC)"
   ]
  },
  {
   "cell_type": "markdown",
   "metadata": {},
   "source": [
    "### Multilayer CNN"
   ]
  },
  {
   "cell_type": "code",
   "execution_count": 42,
   "metadata": {},
   "outputs": [
    {
     "data": {
      "text/plain": [
       "(5, 2, 5, 7, 2)"
      ]
     },
     "execution_count": 42,
     "metadata": {},
     "output_type": "execute_result"
    }
   ],
   "source": [
    "ex3_scores = np.load('data/scores/cnn_multilayer/scores_1543686279.5532448.npy')\n",
    "ex3_scores.shape"
   ]
  },
  {
   "cell_type": "code",
   "execution_count": 43,
   "metadata": {},
   "outputs": [
    {
     "name": "stdout",
     "output_type": "stream",
     "text": [
      "ROC AUC over 5 runs:\n",
      "All labels:          0.9776 ±0.0008\n",
      "Toxic:               0.9607 ±0.0010\n",
      "Severe toxic:        0.9873 ±0.0005\n",
      "Obscene:             0.9752 ±0.0008\n",
      "Threat:              0.9830 ±0.0007\n",
      "Insult:              0.9692 ±0.0006\n",
      "Identity hate:       0.9727 ±0.0019\n",
      "F1 over 5 runs:\n",
      "All labels:          0.6327 ±0.0029\n",
      "Toxic:               0.6638 ±0.0101\n",
      "Severe toxic:        0.3540 ±0.0364\n",
      "Obscene:             0.6849 ±0.0080\n",
      "Threat:              0.3632 ±0.0327\n",
      "Insult:              0.6429 ±0.0025\n",
      "Identity hate:       0.5155 ±0.0359\n"
     ]
    },
    {
     "name": "stderr",
     "output_type": "stream",
     "text": [
      "/home/philipp/miniconda3/envs/tensorflow/lib/python3.6/site-packages/matplotlib/figure.py:445: UserWarning: Matplotlib is currently using module://ipykernel.pylab.backend_inline, which is a non-GUI backend, so cannot show the figure.\n",
      "  % get_backend())\n"
     ]
    },
    {
     "data": {
      "image/png": "[encoded data removed]",
      "text/plain": [
       "<Figure size 432x288 with 1 Axes>"
      ]
     },
     "metadata": {},
     "output_type": "display_data"
    }
   ],
   "source": [
    "calculated_all_metrics(ex3_scores)\n",
    "plot_learningcurve(ex3_scores, Labels.ALL, Metrics.ROC_AUC)"
   ]
  },
  {
   "cell_type": "markdown",
   "metadata": {},
   "source": [
    "### Dilated CNN"
   ]
  },
  {
   "cell_type": "code",
   "execution_count": 44,
   "metadata": {},
   "outputs": [
    {
     "data": {
      "text/plain": [
       "(5, 2, 5, 7, 2)"
      ]
     },
     "execution_count": 44,
     "metadata": {},
     "output_type": "execute_result"
    }
   ],
   "source": [
    "ex4_scores = np.load('data/scores/cnn_dilated/scores_1545399367.0580235.npy')\n",
    "ex4_scores.shape"
   ]
  },
  {
   "cell_type": "code",
   "execution_count": 45,
   "metadata": {},
   "outputs": [
    {
     "name": "stdout",
     "output_type": "stream",
     "text": [
      "ROC AUC over 5 runs:\n",
      "All labels:          0.9763 ±0.0006\n",
      "Toxic:               0.9599 ±0.0015\n",
      "Severe toxic:        0.9867 ±0.0006\n",
      "Obscene:             0.9753 ±0.0009\n",
      "Threat:              0.9780 ±0.0014\n",
      "Insult:              0.9672 ±0.0005\n",
      "Identity hate:       0.9672 ±0.0025\n",
      "F1 over 5 runs:\n",
      "All labels:          0.6290 ±0.0059\n",
      "Toxic:               0.6607 ±0.0064\n",
      "Severe toxic:        0.3089 ±0.1151\n",
      "Obscene:             0.6885 ±0.0092\n",
      "Threat:              0.1300 ±0.1060\n",
      "Insult:              0.6351 ±0.0058\n",
      "Identity hate:       0.3079 ±0.0945\n"
     ]
    },
    {
     "name": "stderr",
     "output_type": "stream",
     "text": [
      "/home/philipp/miniconda3/envs/tensorflow/lib/python3.6/site-packages/matplotlib/figure.py:445: UserWarning: Matplotlib is currently using module://ipykernel.pylab.backend_inline, which is a non-GUI backend, so cannot show the figure.\n",
      "  % get_backend())\n"
     ]
    },
    {
     "data": {
      "image/png": "[encoded data removed]",
      "text/plain": [
       "<Figure size 432x288 with 1 Axes>"
      ]
     },
     "metadata": {},
     "output_type": "display_data"
    }
   ],
   "source": [
    "calculated_all_metrics(ex4_scores)\n",
    "plot_learningcurve(ex4_scores, Labels.ALL, Metrics.ROC_AUC)"
   ]
  },
  {
   "cell_type": "markdown",
   "metadata": {
    "collapsed": true
   },
   "source": [
    "# Preprocessing comparison"
   ]
  },
  {
   "cell_type": "markdown",
   "metadata": {},
   "source": [
    "### Baseline"
   ]
  },
  {
   "cell_type": "code",
   "execution_count": 46,
   "metadata": {},
   "outputs": [
    {
     "data": {
      "text/plain": [
       "(5, 2, 5, 7, 2)"
      ]
     },
     "execution_count": 46,
     "metadata": {},
     "output_type": "execute_result"
    }
   ],
   "source": [
    "ep1_scores = np.load('data/scores/preprocessing/e1_scores_1544101761.8759387.npy')\n",
    "ep1_scores.shape"
   ]
  },
  {
   "cell_type": "code",
   "execution_count": 47,
   "metadata": {},
   "outputs": [
    {
     "name": "stdout",
     "output_type": "stream",
     "text": [
      "ROC AUC over 5 runs:\n",
      "All labels:          0.9789 ±0.0007\n",
      "Toxic:               0.9629 ±0.0006\n",
      "Severe toxic:        0.9868 ±0.0004\n",
      "Obscene:             0.9756 ±0.0003\n",
      "Threat:              0.9841 ±0.0014\n",
      "Insult:              0.9710 ±0.0008\n",
      "Identity hate:       0.9766 ±0.0012\n",
      "F1 over 5 runs:\n",
      "All labels:          0.6358 ±0.0085\n",
      "Toxic:               0.6655 ±0.0102\n",
      "Severe toxic:        0.3658 ±0.0149\n",
      "Obscene:             0.6829 ±0.0051\n",
      "Threat:              0.4200 ±0.0282\n",
      "Insult:              0.6524 ±0.0035\n",
      "Identity hate:       0.5523 ±0.0160\n"
     ]
    },
    {
     "name": "stderr",
     "output_type": "stream",
     "text": [
      "/home/philipp/miniconda3/envs/tensorflow/lib/python3.6/site-packages/matplotlib/figure.py:445: UserWarning: Matplotlib is currently using module://ipykernel.pylab.backend_inline, which is a non-GUI backend, so cannot show the figure.\n",
      "  % get_backend())\n"
     ]
    },
    {
     "data": {
      "image/png": "[encoded data removed]",
      "text/plain": [
       "<Figure size 432x288 with 1 Axes>"
      ]
     },
     "metadata": {},
     "output_type": "display_data"
    }
   ],
   "source": [
    "calculated_all_metrics(ep1_scores)\n",
    "plot_learningcurve(ep1_scores, Labels.ALL, Metrics.ROC_AUC)"
   ]
  },
  {
   "cell_type": "markdown",
   "metadata": {
    "collapsed": true
   },
   "source": [
    "### Strip more than 3 of the same characters in a row"
   ]
  },
  {
   "cell_type": "code",
   "execution_count": 48,
   "metadata": {},
   "outputs": [
    {
     "data": {
      "text/plain": [
       "(5, 2, 5, 7, 2)"
      ]
     },
     "execution_count": 48,
     "metadata": {},
     "output_type": "execute_result"
    }
   ],
   "source": [
    "ep2_scores = np.load('data/scores/preprocessing/e2_scores_1544182966.0022054.npy')\n",
    "ep2_scores.shape"
   ]
  },
  {
   "cell_type": "code",
   "execution_count": 49,
   "metadata": {},
   "outputs": [
    {
     "name": "stdout",
     "output_type": "stream",
     "text": [
      "ROC AUC over 5 runs:\n",
      "All labels:          0.9789 ±0.0006\n",
      "Toxic:               0.9628 ±0.0003\n",
      "Severe toxic:        0.9869 ±0.0003\n",
      "Obscene:             0.9760 ±0.0003\n",
      "Threat:              0.9867 ±0.0016\n",
      "Insult:              0.9712 ±0.0007\n",
      "Identity hate:       0.9765 ±0.0011\n",
      "F1 over 5 runs:\n",
      "All labels:          0.6357 ±0.0090\n",
      "Toxic:               0.6669 ±0.0101\n",
      "Severe toxic:        0.3723 ±0.0069\n",
      "Obscene:             0.6842 ±0.0043\n",
      "Threat:              0.4327 ±0.0255\n",
      "Insult:              0.6565 ±0.0029\n",
      "Identity hate:       0.5530 ±0.0235\n"
     ]
    },
    {
     "name": "stderr",
     "output_type": "stream",
     "text": [
      "/home/philipp/miniconda3/envs/tensorflow/lib/python3.6/site-packages/matplotlib/figure.py:445: UserWarning: Matplotlib is currently using module://ipykernel.pylab.backend_inline, which is a non-GUI backend, so cannot show the figure.\n",
      "  % get_backend())\n"
     ]
    },
    {
     "data": {
      "image/png": "[encoded data removed]",
      "text/plain": [
       "<Figure size 432x288 with 1 Axes>"
      ]
     },
     "metadata": {},
     "output_type": "display_data"
    }
   ],
   "source": [
    "calculated_all_metrics(ep2_scores)\n",
    "plot_learningcurve(ep2_scores, Labels.ALL, Metrics.ROC_AUC)"
   ]
  },
  {
   "cell_type": "markdown",
   "metadata": {},
   "source": [
    "### Remove all punctuation"
   ]
  },
  {
   "cell_type": "code",
   "execution_count": 50,
   "metadata": {},
   "outputs": [
    {
     "data": {
      "text/plain": [
       "(5, 2, 5, 7, 2)"
      ]
     },
     "execution_count": 50,
     "metadata": {},
     "output_type": "execute_result"
    }
   ],
   "source": [
    "ep3_scores = np.load('data/scores/preprocessing/e3_scores_1545309175.410995.npy')\n",
    "ep3_scores.shape"
   ]
  },
  {
   "cell_type": "code",
   "execution_count": 51,
   "metadata": {},
   "outputs": [
    {
     "name": "stdout",
     "output_type": "stream",
     "text": [
      "ROC AUC over 5 runs:\n",
      "All labels:          0.9797 ±0.0004\n",
      "Toxic:               0.9637 ±0.0004\n",
      "Severe toxic:        0.9868 ±0.0005\n",
      "Obscene:             0.9767 ±0.0006\n",
      "Threat:              0.9859 ±0.0011\n",
      "Insult:              0.9722 ±0.0003\n",
      "Identity hate:       0.9768 ±0.0013\n",
      "F1 over 5 runs:\n",
      "All labels:          0.6380 ±0.0090\n",
      "Toxic:               0.6654 ±0.0073\n",
      "Severe toxic:        0.3923 ±0.0169\n",
      "Obscene:             0.6817 ±0.0073\n",
      "Threat:              0.4462 ±0.0139\n",
      "Insult:              0.6546 ±0.0023\n",
      "Identity hate:       0.5366 ±0.0157\n"
     ]
    },
    {
     "name": "stderr",
     "output_type": "stream",
     "text": [
      "/home/philipp/miniconda3/envs/tensorflow/lib/python3.6/site-packages/matplotlib/figure.py:445: UserWarning: Matplotlib is currently using module://ipykernel.pylab.backend_inline, which is a non-GUI backend, so cannot show the figure.\n",
      "  % get_backend())\n"
     ]
    },
    {
     "data": {
      "image/png": "[encoded data removed]",
      "text/plain": [
       "<Figure size 432x288 with 1 Axes>"
      ]
     },
     "metadata": {},
     "output_type": "display_data"
    }
   ],
   "source": [
    "calculated_all_metrics(ep3_scores)\n",
    "plot_learningcurve(ep3_scores, Labels.ALL, Metrics.ROC_AUC)"
   ]
  },
  {
   "cell_type": "markdown",
   "metadata": {
    "collapsed": true
   },
   "source": [
    "### Remove all punctuation except for .,!?"
   ]
  },
  {
   "cell_type": "code",
   "execution_count": 52,
   "metadata": {},
   "outputs": [
    {
     "data": {
      "text/plain": [
       "(5, 2, 5, 7, 2)"
      ]
     },
     "execution_count": 52,
     "metadata": {},
     "output_type": "execute_result"
    }
   ],
   "source": [
    "ep4_scores = np.load('data/scores/preprocessing/e4_scores_1545326105.8022852.npy')\n",
    "ep4_scores.shape"
   ]
  },
  {
   "cell_type": "code",
   "execution_count": 53,
   "metadata": {},
   "outputs": [
    {
     "name": "stdout",
     "output_type": "stream",
     "text": [
      "ROC AUC over 5 runs:\n",
      "All labels:          0.9797 ±0.0004\n",
      "Toxic:               0.9639 ±0.0004\n",
      "Severe toxic:        0.9864 ±0.0008\n",
      "Obscene:             0.9764 ±0.0006\n",
      "Threat:              0.9852 ±0.0007\n",
      "Insult:              0.9722 ±0.0004\n",
      "Identity hate:       0.9772 ±0.0009\n",
      "F1 over 5 runs:\n",
      "All labels:          0.6386 ±0.0066\n",
      "Toxic:               0.6678 ±0.0076\n",
      "Severe toxic:        0.3752 ±0.0147\n",
      "Obscene:             0.6829 ±0.0054\n",
      "Threat:              0.4080 ±0.0180\n",
      "Insult:              0.6576 ±0.0052\n",
      "Identity hate:       0.5547 ±0.0182\n"
     ]
    },
    {
     "name": "stderr",
     "output_type": "stream",
     "text": [
      "/home/philipp/miniconda3/envs/tensorflow/lib/python3.6/site-packages/matplotlib/figure.py:445: UserWarning: Matplotlib is currently using module://ipykernel.pylab.backend_inline, which is a non-GUI backend, so cannot show the figure.\n",
      "  % get_backend())\n"
     ]
    },
    {
     "data": {
      "image/png": "[encoded data removed]",
      "text/plain": [
       "<Figure size 432x288 with 1 Axes>"
      ]
     },
     "metadata": {},
     "output_type": "display_data"
    }
   ],
   "source": [
    "calculated_all_metrics(ep4_scores)\n",
    "plot_learningcurve(ep4_scores, Labels.ALL, Metrics.ROC_AUC)"
   ]
  },
  {
   "cell_type": "markdown",
   "metadata": {},
   "source": [
    "### Stemming"
   ]
  },
  {
   "cell_type": "code",
   "execution_count": 54,
   "metadata": {},
   "outputs": [
    {
     "data": {
      "text/plain": [
       "(5, 2, 5, 7, 2)"
      ]
     },
     "execution_count": 54,
     "metadata": {},
     "output_type": "execute_result"
    }
   ],
   "source": [
    "ep5_scores = np.load('data/scores/preprocessing/e5_scores_1544714914.6546211.npy')\n",
    "ep5_scores.shape"
   ]
  },
  {
   "cell_type": "code",
   "execution_count": 55,
   "metadata": {},
   "outputs": [
    {
     "name": "stdout",
     "output_type": "stream",
     "text": [
      "ROC AUC over 5 runs:\n",
      "All labels:          0.9797 ±0.0006\n",
      "Toxic:               0.9637 ±0.0003\n",
      "Severe toxic:        0.9878 ±0.0008\n",
      "Obscene:             0.9766 ±0.0005\n",
      "Threat:              0.9892 ±0.0014\n",
      "Insult:              0.9719 ±0.0007\n",
      "Identity hate:       0.9799 ±0.0013\n",
      "F1 over 5 runs:\n",
      "All labels:          0.6430 ±0.0103\n",
      "Toxic:               0.6702 ±0.0091\n",
      "Severe toxic:        0.3677 ±0.0382\n",
      "Obscene:             0.6832 ±0.0053\n",
      "Threat:              0.4208 ±0.0301\n",
      "Insult:              0.6568 ±0.0054\n",
      "Identity hate:       0.5618 ±0.0234\n"
     ]
    },
    {
     "name": "stderr",
     "output_type": "stream",
     "text": [
      "/home/philipp/miniconda3/envs/tensorflow/lib/python3.6/site-packages/matplotlib/figure.py:445: UserWarning: Matplotlib is currently using module://ipykernel.pylab.backend_inline, which is a non-GUI backend, so cannot show the figure.\n",
      "  % get_backend())\n"
     ]
    },
    {
     "data": {
      "image/png": "[encoded data removed]",
      "text/plain": [
       "<Figure size 432x288 with 1 Axes>"
      ]
     },
     "metadata": {},
     "output_type": "display_data"
    }
   ],
   "source": [
    "calculated_all_metrics(ep5_scores)\n",
    "plot_learningcurve(ep5_scores, Labels.ALL, Metrics.ROC_AUC)"
   ]
  },
  {
   "cell_type": "markdown",
   "metadata": {},
   "source": [
    "### Lemmatization"
   ]
  },
  {
   "cell_type": "code",
   "execution_count": 56,
   "metadata": {},
   "outputs": [
    {
     "data": {
      "text/plain": [
       "(5, 2, 5, 7, 2)"
      ]
     },
     "execution_count": 56,
     "metadata": {},
     "output_type": "execute_result"
    }
   ],
   "source": [
    "ep6_scores = np.load('data/scores/preprocessing/e6_scores_1544744071.8302839.npy')\n",
    "ep6_scores.shape"
   ]
  },
  {
   "cell_type": "code",
   "execution_count": 57,
   "metadata": {},
   "outputs": [
    {
     "name": "stdout",
     "output_type": "stream",
     "text": [
      "ROC AUC over 5 runs:\n",
      "All labels:          0.9796 ±0.0004\n",
      "Toxic:               0.9630 ±0.0008\n",
      "Severe toxic:        0.9865 ±0.0004\n",
      "Obscene:             0.9766 ±0.0006\n",
      "Threat:              0.9854 ±0.0019\n",
      "Insult:              0.9724 ±0.0008\n",
      "Identity hate:       0.9776 ±0.0007\n",
      "F1 over 5 runs:\n",
      "All labels:          0.6448 ±0.0037\n",
      "Toxic:               0.6602 ±0.0130\n",
      "Severe toxic:        0.3647 ±0.0209\n",
      "Obscene:             0.6893 ±0.0057\n",
      "Threat:              0.4233 ±0.0380\n",
      "Insult:              0.6582 ±0.0058\n",
      "Identity hate:       0.5778 ±0.0155\n"
     ]
    },
    {
     "name": "stderr",
     "output_type": "stream",
     "text": [
      "/home/philipp/miniconda3/envs/tensorflow/lib/python3.6/site-packages/matplotlib/figure.py:445: UserWarning: Matplotlib is currently using module://ipykernel.pylab.backend_inline, which is a non-GUI backend, so cannot show the figure.\n",
      "  % get_backend())\n"
     ]
    },
    {
     "data": {
      "image/png": "[encoded data removed]",
      "text/plain": [
       "<Figure size 432x288 with 1 Axes>"
      ]
     },
     "metadata": {},
     "output_type": "display_data"
    }
   ],
   "source": [
    "calculated_all_metrics(ep6_scores)\n",
    "plot_learningcurve(ep6_scores, Labels.ALL, Metrics.ROC_AUC)"
   ]
  },
  {
   "cell_type": "markdown",
   "metadata": {
    "collapsed": true
   },
   "source": [
    "### Replace unknown tokens"
   ]
  },
  {
   "cell_type": "code",
   "execution_count": 58,
   "metadata": {},
   "outputs": [
    {
     "data": {
      "text/plain": [
       "(5, 2, 5, 7, 2)"
      ]
     },
     "execution_count": 58,
     "metadata": {},
     "output_type": "execute_result"
    }
   ],
   "source": [
    "ep7_scores = np.load('data/scores/preprocessing/e7_scores_1544790681.2920856.npy')\n",
    "ep7_scores.shape"
   ]
  },
  {
   "cell_type": "code",
   "execution_count": 59,
   "metadata": {},
   "outputs": [
    {
     "name": "stdout",
     "output_type": "stream",
     "text": [
      "ROC AUC over 5 runs:\n",
      "All labels:          0.9776 ±0.0008\n",
      "Toxic:               0.9622 ±0.0010\n",
      "Severe toxic:        0.9863 ±0.0004\n",
      "Obscene:             0.9728 ±0.0007\n",
      "Threat:              0.9855 ±0.0006\n",
      "Insult:              0.9690 ±0.0009\n",
      "Identity hate:       0.9632 ±0.0017\n",
      "F1 over 5 runs:\n",
      "All labels:          0.6451 ±0.0092\n",
      "Toxic:               0.6737 ±0.0079\n",
      "Severe toxic:        0.3382 ±0.0979\n",
      "Obscene:             0.6796 ±0.0046\n",
      "Threat:              0.4112 ±0.0312\n",
      "Insult:              0.6442 ±0.0047\n",
      "Identity hate:       0.5240 ±0.0126\n"
     ]
    },
    {
     "name": "stderr",
     "output_type": "stream",
     "text": [
      "/home/philipp/miniconda3/envs/tensorflow/lib/python3.6/site-packages/matplotlib/figure.py:445: UserWarning: Matplotlib is currently using module://ipykernel.pylab.backend_inline, which is a non-GUI backend, so cannot show the figure.\n",
      "  % get_backend())\n"
     ]
    },
    {
     "data": {
      "image/png": "[encoded data removed]",
      "text/plain": [
       "<Figure size 432x288 with 1 Axes>"
      ]
     },
     "metadata": {},
     "output_type": "display_data"
    }
   ],
   "source": [
    "calculated_all_metrics(ep7_scores)\n",
    "plot_learningcurve(ep7_scores, Labels.ALL, Metrics.ROC_AUC)"
   ]
  },
  {
   "cell_type": "markdown",
   "metadata": {},
   "source": [
    "### Replace punctuation except for .,!? + Lemmatization"
   ]
  },
  {
   "cell_type": "code",
   "execution_count": 6,
   "metadata": {},
   "outputs": [
    {
     "data": {
      "text/plain": [
       "(5, 2, 5, 7, 2)"
      ]
     },
     "execution_count": 6,
     "metadata": {},
     "output_type": "execute_result"
    }
   ],
   "source": [
    "ep8_scores = np.load('data/scores/preprocessing/e8_scores_1547583857.9355667.npy')\n",
    "ep8_scores.shape"
   ]
  },
  {
   "cell_type": "code",
   "execution_count": 7,
   "metadata": {},
   "outputs": [
    {
     "name": "stdout",
     "output_type": "stream",
     "text": [
      "ROC AUC over 5 runs:\n",
      "All labels:          0.9805 ±0.0004\n",
      "Toxic:               0.9644 ±0.0002\n",
      "Severe toxic:        0.9868 ±0.0006\n",
      "Obscene:             0.9777 ±0.0005\n",
      "Threat:              0.9862 ±0.0009\n",
      "Insult:              0.9733 ±0.0005\n",
      "Identity hate:       0.9788 ±0.0013\n",
      "F1 over 5 runs:\n",
      "All labels:          0.6443 ±0.0087\n",
      "Toxic:               0.6681 ±0.0127\n",
      "Severe toxic:        0.3564 ±0.0206\n",
      "Obscene:             0.6849 ±0.0017\n",
      "Threat:              0.4302 ±0.0558\n",
      "Insult:              0.6605 ±0.0037\n",
      "Identity hate:       0.5572 ±0.0146\n"
     ]
    },
    {
     "name": "stderr",
     "output_type": "stream",
     "text": [
      "/home/philipp/miniconda3/envs/tensorflow/lib/python3.6/site-packages/matplotlib/figure.py:445: UserWarning: Matplotlib is currently using module://ipykernel.pylab.backend_inline, which is a non-GUI backend, so cannot show the figure.\n",
      "  % get_backend())\n"
     ]
    },
    {
     "data": {
      "image/png": "[encoded data removed]",
      "text/plain": [
       "<Figure size 432x288 with 1 Axes>"
      ]
     },
     "metadata": {},
     "output_type": "display_data"
    }
   ],
   "source": [
    "calculated_all_metrics(ep8_scores)\n",
    "plot_learningcurve(ep8_scores, Labels.ALL, Metrics.ROC_AUC)"
   ]
  },
  {
   "cell_type": "markdown",
   "metadata": {},
   "source": [
    "### Replace punctuation except for .,!? + Stemming"
   ]
  },
  {
   "cell_type": "code",
   "execution_count": 4,
   "metadata": {},
   "outputs": [
    {
     "data": {
      "text/plain": [
       "(5, 2, 5, 7, 2)"
      ]
     },
     "execution_count": 4,
     "metadata": {},
     "output_type": "execute_result"
    }
   ],
   "source": [
    "ep9_scores = np.load('data/scores/preprocessing/e9_scores_1547548853.502363.npy')\n",
    "ep9_scores.shape"
   ]
  },
  {
   "cell_type": "code",
   "execution_count": 5,
   "metadata": {},
   "outputs": [
    {
     "name": "stdout",
     "output_type": "stream",
     "text": [
      "ROC AUC over 5 runs:\n",
      "All labels:          0.9807 ±0.0003\n",
      "Toxic:               0.9646 ±0.0002\n",
      "Severe toxic:        0.9872 ±0.0004\n",
      "Obscene:             0.9774 ±0.0006\n",
      "Threat:              0.9894 ±0.0009\n",
      "Insult:              0.9732 ±0.0006\n",
      "Identity hate:       0.9806 ±0.0011\n",
      "F1 over 5 runs:\n",
      "All labels:          0.6443 ±0.0054\n",
      "Toxic:               0.6690 ±0.0078\n",
      "Severe toxic:        0.3706 ±0.0326\n",
      "Obscene:             0.6833 ±0.0040\n",
      "Threat:              0.3965 ±0.0270\n",
      "Insult:              0.6633 ±0.0041\n",
      "Identity hate:       0.5535 ±0.0199\n"
     ]
    },
    {
     "name": "stderr",
     "output_type": "stream",
     "text": [
      "/home/philipp/miniconda3/envs/tensorflow/lib/python3.6/site-packages/matplotlib/figure.py:445: UserWarning: Matplotlib is currently using module://ipykernel.pylab.backend_inline, which is a non-GUI backend, so cannot show the figure.\n",
      "  % get_backend())\n"
     ]
    },
    {
     "data": {
      "image/png": "[encoded data removed]",
      "text/plain": [
       "<Figure size 432x288 with 1 Axes>"
      ]
     },
     "metadata": {},
     "output_type": "display_data"
    }
   ],
   "source": [
    "calculated_all_metrics(ep9_scores)\n",
    "plot_learningcurve(ep9_scores, Labels.ALL, Metrics.ROC_AUC)"
   ]
  },
  {
   "cell_type": "markdown",
   "metadata": {},
   "source": [
    "### Replace punctuation + Stemming"
   ]
  },
  {
   "cell_type": "code",
   "execution_count": 5,
   "metadata": {},
   "outputs": [
    {
     "data": {
      "text/plain": [
       "(5, 2, 5, 7, 2)"
      ]
     },
     "execution_count": 5,
     "metadata": {},
     "output_type": "execute_result"
    }
   ],
   "source": [
    "ep10_scores = np.load('data/scores/preprocessing/e10_scores_1547600264.255076.npy')\n",
    "ep10_scores.shape"
   ]
  },
  {
   "cell_type": "code",
   "execution_count": 6,
   "metadata": {},
   "outputs": [
    {
     "name": "stdout",
     "output_type": "stream",
     "text": [
      "ROC AUC over 5 runs:\n",
      "All labels:          0.9805 ±0.0004\n",
      "Toxic:               0.9645 ±0.0006\n",
      "Severe toxic:        0.9874 ±0.0007\n",
      "Obscene:             0.9773 ±0.0003\n",
      "Threat:              0.9899 ±0.0005\n",
      "Insult:              0.9731 ±0.0006\n",
      "Identity hate:       0.9800 ±0.0013\n",
      "F1 over 5 runs:\n",
      "All labels:          0.6444 ±0.0078\n",
      "Toxic:               0.6710 ±0.0075\n",
      "Severe toxic:        0.3950 ±0.0192\n",
      "Obscene:             0.6853 ±0.0033\n",
      "Threat:              0.4155 ±0.0237\n",
      "Insult:              0.6561 ±0.0048\n",
      "Identity hate:       0.5653 ±0.0109\n"
     ]
    },
    {
     "name": "stderr",
     "output_type": "stream",
     "text": [
      "/home/philipp/miniconda3/envs/tensorflow/lib/python3.6/site-packages/matplotlib/figure.py:445: UserWarning: Matplotlib is currently using module://ipykernel.pylab.backend_inline, which is a non-GUI backend, so cannot show the figure.\n",
      "  % get_backend())\n"
     ]
    },
    {
     "data": {
      "image/png": "[encoded data removed]",
      "text/plain": [
       "<Figure size 432x288 with 1 Axes>"
      ]
     },
     "metadata": {},
     "output_type": "display_data"
    }
   ],
   "source": [
    "calculated_all_metrics(ep10_scores)\n",
    "plot_learningcurve(ep10_scores, Labels.ALL, Metrics.ROC_AUC)"
   ]
  },
  {
   "cell_type": "markdown",
   "metadata": {},
   "source": [
    "### Replace punctuation + lemmatization"
   ]
  },
  {
   "cell_type": "code",
   "execution_count": 5,
   "metadata": {},
   "outputs": [
    {
     "data": {
      "text/plain": [
       "(5, 2, 5, 7, 2)"
      ]
     },
     "execution_count": 5,
     "metadata": {},
     "output_type": "execute_result"
    }
   ],
   "source": [
    "ep11_scores = np.load('data/scores/preprocessing/e11_scores_1547637074.9931095.npy')\n",
    "ep11_scores.shape"
   ]
  },
  {
   "cell_type": "code",
   "execution_count": 6,
   "metadata": {},
   "outputs": [
    {
     "name": "stdout",
     "output_type": "stream",
     "text": [
      "ROC AUC over 5 runs:\n",
      "All labels:          0.9803 ±0.0003\n",
      "Toxic:               0.9641 ±0.0007\n",
      "Severe toxic:        0.9869 ±0.0007\n",
      "Obscene:             0.9776 ±0.0005\n",
      "Threat:              0.9862 ±0.0013\n",
      "Insult:              0.9728 ±0.0005\n",
      "Identity hate:       0.9786 ±0.0013\n",
      "F1 over 5 runs:\n",
      "All labels:          0.6449 ±0.0059\n",
      "Toxic:               0.6658 ±0.0097\n",
      "Severe toxic:        0.3758 ±0.0317\n",
      "Obscene:             0.6861 ±0.0046\n",
      "Threat:              0.4354 ±0.0329\n",
      "Insult:              0.6548 ±0.0034\n",
      "Identity hate:       0.5499 ±0.0285\n"
     ]
    },
    {
     "name": "stderr",
     "output_type": "stream",
     "text": [
      "/home/philipp/miniconda3/envs/tensorflow/lib/python3.6/site-packages/matplotlib/figure.py:445: UserWarning: Matplotlib is currently using module://ipykernel.pylab.backend_inline, which is a non-GUI backend, so cannot show the figure.\n",
      "  % get_backend())\n"
     ]
    },
    {
     "data": {
      "image/png": "[encoded data removed]",
      "text/plain": [
       "<Figure size 432x288 with 1 Axes>"
      ]
     },
     "metadata": {},
     "output_type": "display_data"
    }
   ],
   "source": [
    "calculated_all_metrics(ep11_scores)\n",
    "plot_learningcurve(ep11_scores, Labels.ALL, Metrics.ROC_AUC)"
   ]
  },
  {
   "cell_type": "markdown",
   "metadata": {},
   "source": [
    "# YouToxic experiments"
   ]
  },
  {
   "cell_type": "markdown",
   "metadata": {},
   "source": [
    "### Youtoxic with transfer learning"
   ]
  },
  {
   "cell_type": "code",
   "execution_count": 60,
   "metadata": {},
   "outputs": [
    {
     "data": {
      "text/plain": [
       "(5, 2, 20, 4, 2)"
      ]
     },
     "execution_count": 60,
     "metadata": {},
     "output_type": "execute_result"
    }
   ],
   "source": [
    "eyt1_scores = np.load('data/scores/youtoxic/youtoxic_1546250048.7388098.npy')\n",
    "eyt1_scores.shape"
   ]
  },
  {
   "cell_type": "code",
   "execution_count": 68,
   "metadata": {},
   "outputs": [
    {
     "name": "stdout",
     "output_type": "stream",
     "text": [
      "ROC AUC over 5 runs:\n",
      "All labels:          0.8091 ±0.0064\n",
      "Toxic:               0.7820 ±0.0095\n",
      "Severe toxic:        0.8003 ±0.0074\n",
      "Obscene:             0.7675 ±0.0088\n",
      "F1 over 5 runs:\n",
      "All labels:          0.6118 ±0.0101\n",
      "Toxic:               0.6801 ±0.0110\n",
      "Severe toxic:        0.6273 ±0.0109\n",
      "Obscene:             0.2367 ±0.0188\n"
     ]
    },
    {
     "name": "stderr",
     "output_type": "stream",
     "text": [
      "/home/philipp/miniconda3/envs/tensorflow/lib/python3.6/site-packages/matplotlib/figure.py:445: UserWarning: Matplotlib is currently using module://ipykernel.pylab.backend_inline, which is a non-GUI backend, so cannot show the figure.\n",
      "  % get_backend())\n"
     ]
    },
    {
     "data": {
      "image/png": "[encoded data removed]",
      "text/plain": [
       "<Figure size 432x288 with 1 Axes>"
      ]
     },
     "metadata": {},
     "output_type": "display_data"
    }
   ],
   "source": [
    "calculate_all_youtoxic_metrics(eyt1_scores)\n",
    "plot_learningcurve(eyt1_scores, YoutoxicLabels.ALL, Metrics.ROC_AUC)"
   ]
  },
  {
   "cell_type": "code",
   "execution_count": 25,
   "metadata": {},
   "outputs": [
    {
     "data": {
      "text/plain": [
       "(5, 20)"
      ]
     },
     "execution_count": 25,
     "metadata": {},
     "output_type": "execute_result"
    }
   ],
   "source": []
  },
  {
   "cell_type": "code",
   "execution_count": null,
   "metadata": {
    "collapsed": true
   },
   "outputs": [],
   "source": []
  }
 ],
 "metadata": {
  "kernelspec": {
   "display_name": "Python 3",
   "language": "python",
   "name": "python3"
  },
  "language_info": {
   "codemirror_mode": {
    "name": "ipython",
    "version": 3
   },
   "file_extension": ".py",
   "mimetype": "text/x-python",
   "name": "python",
   "nbconvert_exporter": "python",
   "pygments_lexer": "ipython3",
   "version": "3.6.1"
  }
 },
 "nbformat": 4,
 "nbformat_minor": 2
}
