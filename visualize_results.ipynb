{
 "cells": [
  {
   "cell_type": "code",
   "execution_count": 22,
   "metadata": {
    "collapsed": true
   },
   "outputs": [],
   "source": [
    "import numpy as np\n",
    "import pandas as pd\n",
    "import matplotlib.pyplot as plt\n",
    "from matplotlib.ticker import MaxNLocator\n",
    "from enum import Enum\n",
    "%matplotlib inline"
   ]
  },
  {
   "cell_type": "code",
   "execution_count": 23,
   "metadata": {
    "collapsed": true
   },
   "outputs": [],
   "source": [
    "class Labels(Enum):\n",
    "    ALL = 0,\n",
    "    TOXIC = 1,\n",
    "    SEVERE_TOXIC = 2,\n",
    "    OBSCENE = 3,\n",
    "    THREAT = 4,\n",
    "    INSULT = 5,\n",
    "    IDENTITY_HATE = 6\n",
    "\n",
    "class DataSets(Enum):\n",
    "    TRAIN = 0,\n",
    "    VALIDATION = 1\n",
    "\n",
    "class Metrics(Enum):\n",
    "    ROC_AUC = 0,\n",
    "    F1 = 1"
   ]
  },
  {
   "cell_type": "code",
   "execution_count": 24,
   "metadata": {
    "collapsed": true
   },
   "outputs": [],
   "source": [
    "def calculate_mean_std(eval_scores, data_set, label, metric):\n",
    "    #print(eval_scores[:, data_set.value, :, label.value, metric.value].shape)\n",
    "    best_epochs = eval_scores[:, data_set.value, :, label.value, metric.value].max(axis=2)\n",
    "    #print(best_epochs.shape)\n",
    "    return best_epochs.mean(), best_epochs.std()\n",
    "\n",
    "def calculated_all_metrics(scores):\n",
    "    roc_all_mean, roc_all_std = calculate_mean_std(scores, DataSets.VALIDATION, Labels.ALL, Metrics.ROC_AUC)\n",
    "    roc_c1_mean, roc_c1_std = calculate_mean_std(scores, DataSets.VALIDATION, Labels.TOXIC, Metrics.ROC_AUC)\n",
    "    roc_c2_mean, roc_c2_std = calculate_mean_std(scores, DataSets.VALIDATION, Labels.SEVERE_TOXIC, Metrics.ROC_AUC)\n",
    "    roc_c3_mean, roc_c3_std = calculate_mean_std(scores, DataSets.VALIDATION, Labels.OBSCENE, Metrics.ROC_AUC)\n",
    "    roc_c4_mean, roc_c4_std = calculate_mean_std(scores, DataSets.VALIDATION, Labels.THREAT, Metrics.ROC_AUC)\n",
    "    roc_c5_mean, roc_c5_std = calculate_mean_std(scores, DataSets.VALIDATION, Labels.INSULT, Metrics.ROC_AUC)\n",
    "    roc_c6_mean, roc_c6_std = calculate_mean_std(scores, DataSets.VALIDATION, Labels.IDENTITY_HATE, Metrics.ROC_AUC)\n",
    "    f1_all_mean, f1_all_std = calculate_mean_std(scores, DataSets.VALIDATION, Labels.ALL, Metrics.F1)\n",
    "    f1_c1_mean, f1_c1_std = calculate_mean_std(scores, DataSets.VALIDATION, Labels.TOXIC, Metrics.F1)\n",
    "    f1_c2_mean, f1_c2_std = calculate_mean_std(scores, DataSets.VALIDATION, Labels.SEVERE_TOXIC, Metrics.F1)\n",
    "    f1_c3_mean, f1_c3_std = calculate_mean_std(scores, DataSets.VALIDATION, Labels.OBSCENE, Metrics.F1)\n",
    "    f1_c4_mean, f1_c4_std = calculate_mean_std(scores, DataSets.VALIDATION, Labels.THREAT, Metrics.F1)\n",
    "    f1_c5_mean, f1_c5_std = calculate_mean_std(scores, DataSets.VALIDATION, Labels.INSULT, Metrics.F1)\n",
    "    f1_c6_mean, f1_c6_std = (0, 0)#calculate_mean_std(scores, DataSets.VALIDATION, Labels.IDENTITY_HATE, Metrics.F1)\n",
    "    \n",
    "    print(\"ROC AUC over 5 runs:\")\n",
    "    print(\"{:20s} {:.4f} ±{:.4f}\".format('All labels:', roc_all_mean, roc_all_std))\n",
    "    print(\"{:20s} {:.4f} ±{:.4f}\".format('Toxic:', roc_c1_mean, roc_c1_std))\n",
    "    print(\"{:20s} {:.4f} ±{:.4f}\".format('Severe toxic:', roc_c2_mean, roc_c2_std))\n",
    "    print(\"{:20s} {:.4f} ±{:.4f}\".format('Obscene:', roc_c3_mean, roc_c3_std))\n",
    "    print(\"{:20s} {:.4f} ±{:.4f}\".format('Threat:', roc_c4_mean, roc_c4_std))\n",
    "    print(\"{:20s} {:.4f} ±{:.4f}\".format('Insult:', roc_c5_mean, roc_c5_std))\n",
    "    print(\"{:20s} {:.4f} ±{:.4f}\".format('Identity hate:', roc_c6_mean, roc_c6_std))\n",
    "    print(\"F1 over 5 runs:\")\n",
    "    print(\"{:20s} {:.4f} ±{:.4f}\".format('All labels:', f1_all_mean, f1_all_std))\n",
    "    print(\"{:20s} {:.4f} ±{:.4f}\".format('Toxic:', f1_c1_mean, f1_c1_std))\n",
    "    print(\"{:20s} {:.4f} ±{:.4f}\".format('Severe toxic:', f1_c2_mean, f1_c2_std))\n",
    "    print(\"{:20s} {:.4f} ±{:.4f}\".format('Obscene:', f1_c3_mean, f1_c3_std))\n",
    "    print(\"{:20s} {:.4f} ±{:.4f}\".format('Threat:', f1_c4_mean, f1_c4_std))\n",
    "    print(\"{:20s} {:.4f} ±{:.4f}\".format('Insult:', f1_c5_mean, f1_c5_std))\n",
    "    print(\"{:20s} {:.4f} ±{:.4f}\".format('Identity hate:', f1_c6_mean, f1_c6_std))\n",
    "\n",
    "def plot_learningcurve(scores, label, metric):\n",
    "    train_scores = scores[:, DataSets.TRAIN.value, :, label.value, metric.value].mean(axis=1)\n",
    "    val_scores = scores[:, DataSets.VALIDATION.value, :, label.value, metric.value].mean(axis=1)\n",
    "    fig = plt.figure()\n",
    "    ax = fig.add_subplot(111)\n",
    "    ax.xaxis.set_major_locator(MaxNLocator(integer=True))\n",
    "    ax.plot(range(1,6),val_scores[0])\n",
    "    ax.plot(range(1,6),train_scores[0])\n",
    "    fig.show()"
   ]
  },
  {
   "cell_type": "markdown",
   "metadata": {},
   "source": [
    "# CNN Architecture Experiments"
   ]
  },
  {
   "cell_type": "markdown",
   "metadata": {},
   "source": [
    "### Singlelayer CNN"
   ]
  },
  {
   "cell_type": "code",
   "execution_count": 25,
   "metadata": {},
   "outputs": [
    {
     "data": {
      "text/plain": [
       "(5, 2, 5, 7, 2)"
      ]
     },
     "execution_count": 25,
     "metadata": {},
     "output_type": "execute_result"
    }
   ],
   "source": [
    "ex1_scores = np.load('data/scores/cnn_simple/scores_1543539380.5547197.npy')\n",
    "ex1_scores.shape"
   ]
  },
  {
   "cell_type": "code",
   "execution_count": 26,
   "metadata": {},
   "outputs": [
    {
     "name": "stdout",
     "output_type": "stream",
     "text": [
      "ROC AUC over 5 runs:\n",
      "All labels:          0.9790 ±0.0003\n",
      "Toxic:               0.9631 ±0.0007\n",
      "Severe toxic:        0.9863 ±0.0008\n",
      "Obscene:             0.9764 ±0.0006\n",
      "Threat:              0.9849 ±0.0027\n",
      "Insult:              0.9715 ±0.0006\n",
      "Identity hate:       0.9768 ±0.0016\n",
      "F1 over 5 runs:\n",
      "All labels:          0.6398 ±0.0045\n",
      "Toxic:               0.6728 ±0.0054\n",
      "Severe toxic:        0.3369 ±0.0086\n",
      "Obscene:             0.6855 ±0.0045\n",
      "Threat:              0.4349 ±0.0421\n",
      "Insult:              0.6564 ±0.0070\n",
      "Identity hate:       0.0000 ±0.0000\n"
     ]
    },
    {
     "name": "stderr",
     "output_type": "stream",
     "text": [
      "/home/philipp/miniconda3/envs/tensorflow/lib/python3.6/site-packages/matplotlib/figure.py:403: UserWarning: matplotlib is currently using a non-GUI backend, so cannot show the figure\n",
      "  \"matplotlib is currently using a non-GUI backend, \"\n"
     ]
    },
    {
     "data": {
      "image/png": "[encoded data removed]",
      "text/plain": [
       "<matplotlib.figure.Figure at 0x7f9e6bc5ed30>"
      ]
     },
     "metadata": {},
     "output_type": "display_data"
    }
   ],
   "source": [
    "calculated_all_metrics(ex1_scores)\n",
    "plot_learningcurve(ex1_scores, Labels.ALL, Metrics.ROC_AUC)"
   ]
  },
  {
   "cell_type": "markdown",
   "metadata": {},
   "source": [
    "### Singlelayer CNN with multiple window sizes"
   ]
  },
  {
   "cell_type": "code",
   "execution_count": 27,
   "metadata": {},
   "outputs": [
    {
     "data": {
      "text/plain": [
       "(5, 2, 5, 7, 2)"
      ]
     },
     "execution_count": 27,
     "metadata": {},
     "output_type": "execute_result"
    }
   ],
   "source": [
    "ex2_scores = np.load('data/scores/cnn_multiwindowsizes/scores_1543641482.1065862.npy')\n",
    "ex2_scores.shape"
   ]
  },
  {
   "cell_type": "code",
   "execution_count": 28,
   "metadata": {},
   "outputs": [
    {
     "name": "stdout",
     "output_type": "stream",
     "text": [
      "ROC AUC over 5 runs:\n",
      "All labels:          0.9790 ±0.0006\n",
      "Toxic:               0.9631 ±0.0007\n",
      "Severe toxic:        0.9869 ±0.0006\n",
      "Obscene:             0.9756 ±0.0003\n",
      "Threat:              0.9848 ±0.0010\n",
      "Insult:              0.9709 ±0.0010\n",
      "Identity hate:       0.9767 ±0.0008\n",
      "F1 over 5 runs:\n",
      "All labels:          0.6401 ±0.0072\n",
      "Toxic:               0.6710 ±0.0108\n",
      "Severe toxic:        0.3568 ±0.0398\n",
      "Obscene:             0.6836 ±0.0044\n",
      "Threat:              0.4110 ±0.0366\n",
      "Insult:              0.6549 ±0.0051\n",
      "Identity hate:       0.0000 ±0.0000\n"
     ]
    },
    {
     "name": "stderr",
     "output_type": "stream",
     "text": [
      "/home/philipp/miniconda3/envs/tensorflow/lib/python3.6/site-packages/matplotlib/figure.py:403: UserWarning: matplotlib is currently using a non-GUI backend, so cannot show the figure\n",
      "  \"matplotlib is currently using a non-GUI backend, \"\n"
     ]
    },
    {
     "data": {
      "image/png": "[encoded data removed]",
      "text/plain": [
       "<matplotlib.figure.Figure at 0x7f9e6ba69ac8>"
      ]
     },
     "metadata": {},
     "output_type": "display_data"
    }
   ],
   "source": [
    "calculated_all_metrics(ex2_scores)\n",
    "plot_learningcurve(ex2_scores, Labels.ALL, Metrics.ROC_AUC)"
   ]
  },
  {
   "cell_type": "markdown",
   "metadata": {},
   "source": [
    "### Multilayer CNN"
   ]
  },
  {
   "cell_type": "code",
   "execution_count": 29,
   "metadata": {},
   "outputs": [
    {
     "data": {
      "text/plain": [
       "(5, 2, 5, 7, 2)"
      ]
     },
     "execution_count": 29,
     "metadata": {},
     "output_type": "execute_result"
    }
   ],
   "source": [
    "ex3_scores = np.load('data/scores/cnn_multilayer/scores_1543686279.5532448.npy')\n",
    "ex3_scores.shape"
   ]
  },
  {
   "cell_type": "code",
   "execution_count": 30,
   "metadata": {},
   "outputs": [
    {
     "name": "stdout",
     "output_type": "stream",
     "text": [
      "ROC AUC over 5 runs:\n",
      "All labels:          0.9776 ±0.0008\n",
      "Toxic:               0.9607 ±0.0010\n",
      "Severe toxic:        0.9873 ±0.0005\n",
      "Obscene:             0.9752 ±0.0008\n",
      "Threat:              0.9830 ±0.0007\n",
      "Insult:              0.9692 ±0.0006\n",
      "Identity hate:       0.9727 ±0.0019\n",
      "F1 over 5 runs:\n",
      "All labels:          0.6327 ±0.0029\n",
      "Toxic:               0.6638 ±0.0101\n",
      "Severe toxic:        0.3540 ±0.0364\n",
      "Obscene:             0.6849 ±0.0080\n",
      "Threat:              0.3632 ±0.0327\n",
      "Insult:              0.6429 ±0.0025\n",
      "Identity hate:       0.0000 ±0.0000\n"
     ]
    },
    {
     "name": "stderr",
     "output_type": "stream",
     "text": [
      "/home/philipp/miniconda3/envs/tensorflow/lib/python3.6/site-packages/matplotlib/figure.py:403: UserWarning: matplotlib is currently using a non-GUI backend, so cannot show the figure\n",
      "  \"matplotlib is currently using a non-GUI backend, \"\n"
     ]
    },
    {
     "data": {
      "image/png": "[encoded data removed]",
      "text/plain": [
       "<matplotlib.figure.Figure at 0x7f9e6bba8518>"
      ]
     },
     "metadata": {},
     "output_type": "display_data"
    }
   ],
   "source": [
    "calculated_all_metrics(ex3_scores)\n",
    "plot_learningcurve(ex3_scores, Labels.ALL, Metrics.ROC_AUC)"
   ]
  },
  {
   "cell_type": "markdown",
   "metadata": {},
   "source": [
    "### Dilated CNN"
   ]
  },
  {
   "cell_type": "code",
   "execution_count": 31,
   "metadata": {},
   "outputs": [
    {
     "data": {
      "text/plain": [
       "(5, 2, 5, 7, 2)"
      ]
     },
     "execution_count": 31,
     "metadata": {},
     "output_type": "execute_result"
    }
   ],
   "source": [
    "ex4_scores = np.load('data/scores/cnn_dilated/scores_1544054844.630442.npy')\n",
    "ex4_scores.shape"
   ]
  },
  {
   "cell_type": "code",
   "execution_count": 32,
   "metadata": {},
   "outputs": [
    {
     "name": "stdout",
     "output_type": "stream",
     "text": [
      "ROC AUC over 5 runs:\n",
      "All labels:          0.9761 ±0.0006\n",
      "Toxic:               0.9618 ±0.0015\n",
      "Severe toxic:        0.9877 ±0.0005\n",
      "Obscene:             0.9760 ±0.0005\n",
      "Threat:              0.9753 ±0.0021\n",
      "Insult:              0.9666 ±0.0008\n",
      "Identity hate:       0.9635 ±0.0044\n",
      "F1 over 5 runs:\n",
      "All labels:          0.6360 ±0.0050\n",
      "Toxic:               0.6736 ±0.0033\n",
      "Severe toxic:        0.3812 ±0.0516\n",
      "Obscene:             0.6985 ±0.0059\n",
      "Threat:              0.0073 ±0.0107\n",
      "Insult:              0.6324 ±0.0041\n",
      "Identity hate:       0.0000 ±0.0000\n"
     ]
    },
    {
     "name": "stderr",
     "output_type": "stream",
     "text": [
      "/home/philipp/miniconda3/envs/tensorflow/lib/python3.6/site-packages/matplotlib/figure.py:403: UserWarning: matplotlib is currently using a non-GUI backend, so cannot show the figure\n",
      "  \"matplotlib is currently using a non-GUI backend, \"\n"
     ]
    },
    {
     "data": {
      "image/png": "[encoded data removed]",
      "text/plain": [
       "<matplotlib.figure.Figure at 0x7f9e6bb35550>"
      ]
     },
     "metadata": {},
     "output_type": "display_data"
    }
   ],
   "source": [
    "calculated_all_metrics(ex4_scores)\n",
    "plot_learningcurve(ex4_scores, Labels.ALL, Metrics.ROC_AUC)"
   ]
  },
  {
   "cell_type": "markdown",
   "metadata": {
    "collapsed": true
   },
   "source": [
    "# Preprocessing comparison"
   ]
  },
  {
   "cell_type": "markdown",
   "metadata": {},
   "source": [
    "### Baseline"
   ]
  },
  {
   "cell_type": "code",
   "execution_count": 33,
   "metadata": {},
   "outputs": [
    {
     "data": {
      "text/plain": [
       "(5, 2, 5, 7, 2)"
      ]
     },
     "execution_count": 33,
     "metadata": {},
     "output_type": "execute_result"
    }
   ],
   "source": [
    "ep1_scores = np.load('data/scores/preprocessing/e1_scores_1544101761.8759387.npy')\n",
    "ep1_scores.shape"
   ]
  },
  {
   "cell_type": "code",
   "execution_count": 34,
   "metadata": {},
   "outputs": [
    {
     "name": "stdout",
     "output_type": "stream",
     "text": [
      "ROC AUC over 5 runs:\n",
      "All labels:          0.9789 ±0.0007\n",
      "Toxic:               0.9629 ±0.0006\n",
      "Severe toxic:        0.9868 ±0.0004\n",
      "Obscene:             0.9756 ±0.0003\n",
      "Threat:              0.9841 ±0.0014\n",
      "Insult:              0.9710 ±0.0008\n",
      "Identity hate:       0.9766 ±0.0012\n",
      "F1 over 5 runs:\n",
      "All labels:          0.6358 ±0.0085\n",
      "Toxic:               0.6655 ±0.0102\n",
      "Severe toxic:        0.3658 ±0.0149\n",
      "Obscene:             0.6829 ±0.0051\n",
      "Threat:              0.4200 ±0.0282\n",
      "Insult:              0.6524 ±0.0035\n",
      "Identity hate:       0.0000 ±0.0000\n"
     ]
    },
    {
     "name": "stderr",
     "output_type": "stream",
     "text": [
      "/home/philipp/miniconda3/envs/tensorflow/lib/python3.6/site-packages/matplotlib/figure.py:403: UserWarning: matplotlib is currently using a non-GUI backend, so cannot show the figure\n",
      "  \"matplotlib is currently using a non-GUI backend, \"\n"
     ]
    },
    {
     "data": {
      "image/png": "[encoded data removed]",
      "text/plain": [
       "<matplotlib.figure.Figure at 0x7f9e6bb75da0>"
      ]
     },
     "metadata": {},
     "output_type": "display_data"
    }
   ],
   "source": [
    "calculated_all_metrics(ep1_scores)\n",
    "plot_learningcurve(ep1_scores, Labels.ALL, Metrics.ROC_AUC)"
   ]
  },
  {
   "cell_type": "markdown",
   "metadata": {
    "collapsed": true
   },
   "source": [
    "### Strip more than 3 of the same characters in a row"
   ]
  },
  {
   "cell_type": "code",
   "execution_count": 35,
   "metadata": {},
   "outputs": [
    {
     "data": {
      "text/plain": [
       "(5, 2, 5, 7, 2)"
      ]
     },
     "execution_count": 35,
     "metadata": {},
     "output_type": "execute_result"
    }
   ],
   "source": [
    "ep2_scores = np.load('data/scores/preprocessing/e2_scores_1544182966.0022054.npy')\n",
    "ep2_scores.shape"
   ]
  },
  {
   "cell_type": "code",
   "execution_count": 36,
   "metadata": {},
   "outputs": [
    {
     "name": "stdout",
     "output_type": "stream",
     "text": [
      "ROC AUC over 5 runs:\n",
      "All labels:          0.9789 ±0.0006\n",
      "Toxic:               0.9628 ±0.0003\n",
      "Severe toxic:        0.9869 ±0.0003\n",
      "Obscene:             0.9760 ±0.0003\n",
      "Threat:              0.9867 ±0.0016\n",
      "Insult:              0.9712 ±0.0007\n",
      "Identity hate:       0.9765 ±0.0011\n",
      "F1 over 5 runs:\n",
      "All labels:          0.6357 ±0.0090\n",
      "Toxic:               0.6669 ±0.0101\n",
      "Severe toxic:        0.3723 ±0.0069\n",
      "Obscene:             0.6842 ±0.0043\n",
      "Threat:              0.4327 ±0.0255\n",
      "Insult:              0.6565 ±0.0029\n",
      "Identity hate:       0.0000 ±0.0000\n"
     ]
    },
    {
     "name": "stderr",
     "output_type": "stream",
     "text": [
      "/home/philipp/miniconda3/envs/tensorflow/lib/python3.6/site-packages/matplotlib/figure.py:403: UserWarning: matplotlib is currently using a non-GUI backend, so cannot show the figure\n",
      "  \"matplotlib is currently using a non-GUI backend, \"\n"
     ]
    },
    {
     "data": {
      "image/png": "[encoded data removed]",
      "text/plain": [
       "<matplotlib.figure.Figure at 0x7f9e6b948f28>"
      ]
     },
     "metadata": {},
     "output_type": "display_data"
    }
   ],
   "source": [
    "calculated_all_metrics(ep2_scores)\n",
    "plot_learningcurve(ep2_scores, Labels.ALL, Metrics.ROC_AUC)"
   ]
  },
  {
   "cell_type": "markdown",
   "metadata": {},
   "source": [
    "### Remove all punctuation"
   ]
  },
  {
   "cell_type": "code",
   "execution_count": 37,
   "metadata": {},
   "outputs": [
    {
     "data": {
      "text/plain": [
       "(5, 2, 5, 7, 2)"
      ]
     },
     "execution_count": 37,
     "metadata": {},
     "output_type": "execute_result"
    }
   ],
   "source": [
    "ep3_scores = np.load('data/scores/preprocessing/e3_scores_1544437960.7343206.npy')\n",
    "ep3_scores.shape"
   ]
  },
  {
   "cell_type": "code",
   "execution_count": 38,
   "metadata": {},
   "outputs": [
    {
     "name": "stderr",
     "output_type": "stream",
     "text": [
      "/home/philipp/miniconda3/envs/tensorflow/lib/python3.6/site-packages/matplotlib/figure.py:403: UserWarning: matplotlib is currently using a non-GUI backend, so cannot show the figure\n",
      "  \"matplotlib is currently using a non-GUI backend, \"\n"
     ]
    },
    {
     "name": "stdout",
     "output_type": "stream",
     "text": [
      "ROC AUC over 5 runs:\n",
      "All labels:          0.9788 ±0.0005\n",
      "Toxic:               0.9626 ±0.0007\n",
      "Severe toxic:        0.9861 ±0.0007\n",
      "Obscene:             0.9760 ±0.0005\n",
      "Threat:              0.9834 ±0.0022\n",
      "Insult:              0.9712 ±0.0007\n",
      "Identity hate:       0.9746 ±0.0020\n",
      "F1 over 5 runs:\n",
      "All labels:          0.6396 ±0.0053\n",
      "Toxic:               0.6642 ±0.0118\n",
      "Severe toxic:        0.3677 ±0.0258\n",
      "Obscene:             0.6832 ±0.0070\n",
      "Threat:              0.4183 ±0.0454\n",
      "Insult:              0.6548 ±0.0060\n",
      "Identity hate:       0.0000 ±0.0000\n"
     ]
    },
    {
     "data": {
      "image/png": "[encoded data removed]",
      "text/plain": [
       "<matplotlib.figure.Figure at 0x7f9e6b939b70>"
      ]
     },
     "metadata": {},
     "output_type": "display_data"
    }
   ],
   "source": [
    "calculated_all_metrics(ep3_scores)\n",
    "plot_learningcurve(ep3_scores, Labels.ALL, Metrics.ROC_AUC)"
   ]
  },
  {
   "cell_type": "markdown",
   "metadata": {
    "collapsed": true
   },
   "source": [
    "### Remove all punctuation except for .,!?"
   ]
  },
  {
   "cell_type": "code",
   "execution_count": 39,
   "metadata": {},
   "outputs": [
    {
     "data": {
      "text/plain": [
       "(5, 2, 5, 7, 2)"
      ]
     },
     "execution_count": 39,
     "metadata": {},
     "output_type": "execute_result"
    }
   ],
   "source": [
    "ep4_scores = np.load('data/scores/preprocessing/e4_scores_1544454982.5633452.npy')\n",
    "ep4_scores.shape"
   ]
  },
  {
   "cell_type": "code",
   "execution_count": 40,
   "metadata": {},
   "outputs": [
    {
     "name": "stdout",
     "output_type": "stream",
     "text": [
      "ROC AUC over 5 runs:\n",
      "All labels:          0.9791 ±0.0003\n",
      "Toxic:               0.9629 ±0.0005\n",
      "Severe toxic:        0.9870 ±0.0005\n",
      "Obscene:             0.9761 ±0.0003\n",
      "Threat:              0.9842 ±0.0021\n",
      "Insult:              0.9719 ±0.0005\n",
      "Identity hate:       0.9759 ±0.0008\n",
      "F1 over 5 runs:\n",
      "All labels:          0.6405 ±0.0079\n",
      "Toxic:               0.6603 ±0.0119\n",
      "Severe toxic:        0.3736 ±0.0089\n",
      "Obscene:             0.6827 ±0.0078\n",
      "Threat:              0.4425 ±0.0290\n",
      "Insult:              0.6535 ±0.0027\n",
      "Identity hate:       0.0000 ±0.0000\n"
     ]
    },
    {
     "name": "stderr",
     "output_type": "stream",
     "text": [
      "/home/philipp/miniconda3/envs/tensorflow/lib/python3.6/site-packages/matplotlib/figure.py:403: UserWarning: matplotlib is currently using a non-GUI backend, so cannot show the figure\n",
      "  \"matplotlib is currently using a non-GUI backend, \"\n"
     ]
    },
    {
     "data": {
      "image/png": "[encoded data removed]",
      "text/plain": [
       "<matplotlib.figure.Figure at 0x7f9e6b8874a8>"
      ]
     },
     "metadata": {},
     "output_type": "display_data"
    }
   ],
   "source": [
    "calculated_all_metrics(ep4_scores)\n",
    "plot_learningcurve(ep4_scores, Labels.ALL, Metrics.ROC_AUC)"
   ]
  },
  {
   "cell_type": "markdown",
   "metadata": {},
   "source": [
    "### Stemming"
   ]
  },
  {
   "cell_type": "code",
   "execution_count": 41,
   "metadata": {},
   "outputs": [
    {
     "data": {
      "text/plain": [
       "(5, 2, 5, 7, 2)"
      ]
     },
     "execution_count": 41,
     "metadata": {},
     "output_type": "execute_result"
    }
   ],
   "source": [
    "ep5_scores = np.load('data/scores/preprocessing/e5_scores_1544714914.6546211.npy')\n",
    "ep5_scores.shape"
   ]
  },
  {
   "cell_type": "code",
   "execution_count": 42,
   "metadata": {},
   "outputs": [
    {
     "name": "stdout",
     "output_type": "stream",
     "text": [
      "ROC AUC over 5 runs:\n",
      "All labels:          0.9797 ±0.0006\n",
      "Toxic:               0.9637 ±0.0003\n",
      "Severe toxic:        0.9878 ±0.0008\n",
      "Obscene:             0.9766 ±0.0005\n",
      "Threat:              0.9892 ±0.0014\n",
      "Insult:              0.9719 ±0.0007\n",
      "Identity hate:       0.9799 ±0.0013\n",
      "F1 over 5 runs:\n",
      "All labels:          0.6430 ±0.0103\n",
      "Toxic:               0.6702 ±0.0091\n",
      "Severe toxic:        0.3677 ±0.0382\n",
      "Obscene:             0.6832 ±0.0053\n",
      "Threat:              0.4208 ±0.0301\n",
      "Insult:              0.6568 ±0.0054\n",
      "Identity hate:       0.0000 ±0.0000\n"
     ]
    },
    {
     "name": "stderr",
     "output_type": "stream",
     "text": [
      "/home/philipp/miniconda3/envs/tensorflow/lib/python3.6/site-packages/matplotlib/figure.py:403: UserWarning: matplotlib is currently using a non-GUI backend, so cannot show the figure\n",
      "  \"matplotlib is currently using a non-GUI backend, \"\n"
     ]
    },
    {
     "data": {
      "image/png": "[encoded data removed]",
      "text/plain": [
       "<matplotlib.figure.Figure at 0x7f9e6b8be550>"
      ]
     },
     "metadata": {},
     "output_type": "display_data"
    }
   ],
   "source": [
    "calculated_all_metrics(ep5_scores)\n",
    "plot_learningcurve(ep5_scores, Labels.ALL, Metrics.ROC_AUC)"
   ]
  },
  {
   "cell_type": "markdown",
   "metadata": {},
   "source": [
    "### Lemmatization"
   ]
  },
  {
   "cell_type": "code",
   "execution_count": 43,
   "metadata": {},
   "outputs": [
    {
     "data": {
      "text/plain": [
       "(5, 2, 5, 7, 2)"
      ]
     },
     "execution_count": 43,
     "metadata": {},
     "output_type": "execute_result"
    }
   ],
   "source": [
    "ep6_scores = np.load('data/scores/preprocessing/e6_scores_1544744071.8302839.npy')\n",
    "ep6_scores.shape"
   ]
  },
  {
   "cell_type": "code",
   "execution_count": 44,
   "metadata": {},
   "outputs": [
    {
     "name": "stdout",
     "output_type": "stream",
     "text": [
      "ROC AUC over 5 runs:\n",
      "All labels:          0.9796 ±0.0004\n",
      "Toxic:               0.9630 ±0.0008\n",
      "Severe toxic:        0.9865 ±0.0004\n",
      "Obscene:             0.9766 ±0.0006\n",
      "Threat:              0.9854 ±0.0019\n",
      "Insult:              0.9724 ±0.0008\n",
      "Identity hate:       0.9776 ±0.0007\n",
      "F1 over 5 runs:\n",
      "All labels:          0.6448 ±0.0037\n",
      "Toxic:               0.6602 ±0.0130\n",
      "Severe toxic:        0.3647 ±0.0209\n",
      "Obscene:             0.6893 ±0.0057\n",
      "Threat:              0.4233 ±0.0380\n",
      "Insult:              0.6582 ±0.0058\n",
      "Identity hate:       0.0000 ±0.0000\n"
     ]
    },
    {
     "name": "stderr",
     "output_type": "stream",
     "text": [
      "/home/philipp/miniconda3/envs/tensorflow/lib/python3.6/site-packages/matplotlib/figure.py:403: UserWarning: matplotlib is currently using a non-GUI backend, so cannot show the figure\n",
      "  \"matplotlib is currently using a non-GUI backend, \"\n"
     ]
    },
    {
     "data": {
      "image/png": "[encoded data removed]",
      "text/plain": [
       "<matplotlib.figure.Figure at 0x7f9e6bc0dac8>"
      ]
     },
     "metadata": {},
     "output_type": "display_data"
    }
   ],
   "source": [
    "calculated_all_metrics(ep6_scores)\n",
    "plot_learningcurve(ep6_scores, Labels.ALL, Metrics.ROC_AUC)"
   ]
  },
  {
   "cell_type": "code",
   "execution_count": null,
   "metadata": {
    "collapsed": true
   },
   "outputs": [],
   "source": []
  }
 ],
 "metadata": {
  "kernelspec": {
   "display_name": "Python 3",
   "language": "python",
   "name": "python3"
  },
  "language_info": {
   "codemirror_mode": {
    "name": "ipython",
    "version": 3
   },
   "file_extension": ".py",
   "mimetype": "text/x-python",
   "name": "python",
   "nbconvert_exporter": "python",
   "pygments_lexer": "ipython3",
   "version": "3.6.1"
  }
 },
 "nbformat": 4,
 "nbformat_minor": 2
}
