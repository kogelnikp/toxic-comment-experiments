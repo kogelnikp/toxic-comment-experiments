{
 "cells": [
  {
   "cell_type": "code",
   "execution_count": 23,
   "metadata": {},
   "outputs": [],
   "source": [
    "import numpy as np\n",
    "import pandas as pd\n",
    "import matplotlib.pyplot as plt\n",
    "from matplotlib.ticker import MaxNLocator\n",
    "from enum import Enum\n",
    "%matplotlib inline"
   ]
  },
  {
   "cell_type": "code",
   "execution_count": 24,
   "metadata": {
    "collapsed": true
   },
   "outputs": [],
   "source": [
    "class Labels(Enum):\n",
    "    ALL = 0,\n",
    "    TOXIC = 1,\n",
    "    SEVERE_TOXIC = 2,\n",
    "    OBSCENE = 3,\n",
    "    THREAT = 4,\n",
    "    INSULT = 5,\n",
    "    IDENTITY_HATE = 6\n",
    "\n",
    "class DataSets(Enum):\n",
    "    TRAIN = 0,\n",
    "    VALIDATION = 1\n",
    "\n",
    "class Metrics(Enum):\n",
    "    ROC_AUC = 0,\n",
    "    F1 = 1"
   ]
  },
  {
   "cell_type": "code",
   "execution_count": 25,
   "metadata": {
    "collapsed": true
   },
   "outputs": [],
   "source": [
    "def calculate_mean_std(scores, data_set, label, metric):\n",
    "    best_epochs = scores[:, data_set.value, :, label.value, metric.value].max(axis=1)\n",
    "    return best_epochs.mean(), best_epochs.std()\n",
    "\n",
    "def calculated_all_metrics(scores):\n",
    "    roc_all_mean, roc_all_std = calculate_mean_std(scores, DataSets.VALIDATION, Labels.ALL, Metrics.ROC_AUC)\n",
    "    roc_c1_mean, roc_c1_std = calculate_mean_std(scores, DataSets.VALIDATION, Labels.TOXIC, Metrics.ROC_AUC)\n",
    "    roc_c2_mean, roc_c2_std = calculate_mean_std(scores, DataSets.VALIDATION, Labels.SEVERE_TOXIC, Metrics.ROC_AUC)\n",
    "    roc_c3_mean, roc_c3_std = calculate_mean_std(scores, DataSets.VALIDATION, Labels.OBSCENE, Metrics.ROC_AUC)\n",
    "    roc_c4_mean, roc_c4_std = calculate_mean_std(scores, DataSets.VALIDATION, Labels.THREAT, Metrics.ROC_AUC)\n",
    "    roc_c5_mean, roc_c5_std = calculate_mean_std(scores, DataSets.VALIDATION, Labels.INSULT, Metrics.ROC_AUC)\n",
    "    roc_c6_mean, roc_c6_std = calculate_mean_std(scores, DataSets.VALIDATION, Labels.IDENTITY_HATE, Metrics.ROC_AUC)\n",
    "    f1_all_mean, f1_all_std = calculate_mean_std(scores, DataSets.VALIDATION, Labels.ALL, Metrics.F1)\n",
    "    f1_c1_mean, f1_c1_std = calculate_mean_std(scores, DataSets.VALIDATION, Labels.TOXIC, Metrics.F1)\n",
    "    f1_c2_mean, f1_c2_std = calculate_mean_std(scores, DataSets.VALIDATION, Labels.SEVERE_TOXIC, Metrics.F1)\n",
    "    f1_c3_mean, f1_c3_std = calculate_mean_std(scores, DataSets.VALIDATION, Labels.OBSCENE, Metrics.F1)\n",
    "    f1_c4_mean, f1_c4_std = calculate_mean_std(scores, DataSets.VALIDATION, Labels.THREAT, Metrics.F1)\n",
    "    f1_c5_mean, f1_c5_std = calculate_mean_std(scores, DataSets.VALIDATION, Labels.INSULT, Metrics.F1)\n",
    "    f1_c6_mean, f1_c6_std = calculate_mean_std(scores, DataSets.VALIDATION, Labels.IDENTITY_HATE, Metrics.F1)\n",
    "    \n",
    "    print(\"ROC AUC over 5 runs:\")\n",
    "    print(\"{:20s} {:.4f} ±{:.4f}\".format('All labels:', roc_all_mean, roc_all_std))\n",
    "    print(\"{:20s} {:.4f} ±{:.4f}\".format('Toxic:', roc_c1_mean, roc_c1_std))\n",
    "    print(\"{:20s} {:.4f} ±{:.4f}\".format('Severe toxic:', roc_c2_mean, roc_c2_std))\n",
    "    print(\"{:20s} {:.4f} ±{:.4f}\".format('Obscene:', roc_c3_mean, roc_c3_std))\n",
    "    print(\"{:20s} {:.4f} ±{:.4f}\".format('Threat:', roc_c4_mean, roc_c4_std))\n",
    "    print(\"{:20s} {:.4f} ±{:.4f}\".format('Insult:', roc_c5_mean, roc_c5_std))\n",
    "    print(\"{:20s} {:.4f} ±{:.4f}\".format('Identity hate:', roc_c6_mean, roc_c6_std))\n",
    "    print(\"F1 over 5 runs:\")\n",
    "    print(\"{:20s} {:.4f} ±{:.4f}\".format('All labels:', f1_all_mean, f1_all_std))\n",
    "    print(\"{:20s} {:.4f} ±{:.4f}\".format('Toxic:', f1_c1_mean, f1_c1_std))\n",
    "    print(\"{:20s} {:.4f} ±{:.4f}\".format('Severe toxic:', f1_c2_mean, f1_c2_std))\n",
    "    print(\"{:20s} {:.4f} ±{:.4f}\".format('Obscene:', f1_c3_mean, f1_c3_std))\n",
    "    print(\"{:20s} {:.4f} ±{:.4f}\".format('Threat:', f1_c4_mean, f1_c4_std))\n",
    "    print(\"{:20s} {:.4f} ±{:.4f}\".format('Insult:', f1_c5_mean, f1_c5_std))\n",
    "    print(\"{:20s} {:.4f} ±{:.4f}\".format('Identity hate:', f1_c6_mean, f1_c6_std))\n",
    "\n",
    "def plot_learningcurve(scores, label, metric):\n",
    "    train_scores = scores[:, DataSets.TRAIN.value, :, label.value, metric.value].mean(axis=1)\n",
    "    val_scores = scores[:, DataSets.VALIDATION.value, :, label.value, metric.value].mean(axis=1)\n",
    "    fig = plt.figure()\n",
    "    ax = fig.add_subplot(111)\n",
    "    ax.xaxis.set_major_locator(MaxNLocator(integer=True))\n",
    "    ax.plot(range(1,6),val_scores[0])\n",
    "    ax.plot(range(1,6),train_scores[0])\n",
    "    fig.show()"
   ]
  },
  {
   "cell_type": "markdown",
   "metadata": {},
   "source": [
    "# CNN Architecture Experiments"
   ]
  },
  {
   "cell_type": "markdown",
   "metadata": {},
   "source": [
    "### Singlelayer CNN"
   ]
  },
  {
   "cell_type": "code",
   "execution_count": 26,
   "metadata": {},
   "outputs": [
    {
     "data": {
      "text/plain": [
       "(5, 2, 5, 7, 2)"
      ]
     },
     "execution_count": 26,
     "metadata": {},
     "output_type": "execute_result"
    }
   ],
   "source": [
    "ex1_scores = np.load('data/scores/cnn_simple/scores_1543539380.5547197.npy')\n",
    "ex1_scores.shape"
   ]
  },
  {
   "cell_type": "code",
   "execution_count": 27,
   "metadata": {},
   "outputs": [
    {
     "name": "stdout",
     "output_type": "stream",
     "text": [
      "ROC AUC over 5 runs:\n",
      "All labels:          0.9779 ±0.0011\n",
      "Toxic:               0.9606 ±0.0030\n",
      "Severe toxic:        0.9859 ±0.0012\n",
      "Obscene:             0.9749 ±0.0015\n",
      "Threat:              0.9841 ±0.0048\n",
      "Insult:              0.9703 ±0.0019\n",
      "Identity hate:       0.9758 ±0.0034\n",
      "F1 over 5 runs:\n",
      "All labels:          0.6271 ±0.0137\n",
      "Toxic:               0.6352 ±0.0355\n",
      "Severe toxic:        0.3079 ±0.0442\n",
      "Obscene:             0.6814 ±0.0097\n",
      "Threat:              0.3434 ±0.1781\n",
      "Insult:              0.6525 ±0.0070\n",
      "Identity hate:       0.5537 ±0.0101\n"
     ]
    },
    {
     "name": "stderr",
     "output_type": "stream",
     "text": [
      "/home/philipp/miniconda3/envs/tensorflow/lib/python3.6/site-packages/matplotlib/figure.py:403: UserWarning: matplotlib is currently using a non-GUI backend, so cannot show the figure\n",
      "  \"matplotlib is currently using a non-GUI backend, \"\n"
     ]
    },
    {
     "data": {
      "image/png": "[encoded data removed]",
      "text/plain": [
       "<matplotlib.figure.Figure at 0x7fbb587de470>"
      ]
     },
     "metadata": {},
     "output_type": "display_data"
    }
   ],
   "source": [
    "calculated_all_metrics(ex1_scores)\n",
    "plot_learningcurve(ex1_scores, Labels.ALL, Metrics.ROC_AUC)"
   ]
  },
  {
   "cell_type": "markdown",
   "metadata": {},
   "source": [
    "### Singlelayer CNN with multiple window sizes"
   ]
  },
  {
   "cell_type": "code",
   "execution_count": 28,
   "metadata": {},
   "outputs": [
    {
     "data": {
      "text/plain": [
       "(5, 2, 5, 7, 2)"
      ]
     },
     "execution_count": 28,
     "metadata": {},
     "output_type": "execute_result"
    }
   ],
   "source": [
    "ex2_scores = np.load('data/scores/cnn_multiwindowsizes/scores_1543641482.1065862.npy')\n",
    "ex2_scores.shape"
   ]
  },
  {
   "cell_type": "code",
   "execution_count": 29,
   "metadata": {},
   "outputs": [
    {
     "name": "stdout",
     "output_type": "stream",
     "text": [
      "ROC AUC over 5 runs:\n",
      "All labels:          0.9781 ±0.0012\n",
      "Toxic:               0.9605 ±0.0033\n",
      "Severe toxic:        0.9865 ±0.0008\n",
      "Obscene:             0.9748 ±0.0010\n",
      "Threat:              0.9830 ±0.0033\n",
      "Insult:              0.9702 ±0.0016\n",
      "Identity hate:       0.9747 ±0.0027\n",
      "F1 over 5 runs:\n",
      "All labels:          0.6309 ±0.0128\n",
      "Toxic:               0.6368 ±0.0313\n",
      "Severe toxic:        0.3741 ±0.0347\n",
      "Obscene:             0.6811 ±0.0084\n",
      "Threat:              0.3013 ±0.1686\n",
      "Insult:              0.6532 ±0.0065\n",
      "Identity hate:       0.5536 ±0.0135\n"
     ]
    },
    {
     "name": "stderr",
     "output_type": "stream",
     "text": [
      "/home/philipp/miniconda3/envs/tensorflow/lib/python3.6/site-packages/matplotlib/figure.py:403: UserWarning: matplotlib is currently using a non-GUI backend, so cannot show the figure\n",
      "  \"matplotlib is currently using a non-GUI backend, \"\n"
     ]
    },
    {
     "data": {
      "image/png": "[encoded data removed]",
      "text/plain": [
       "<matplotlib.figure.Figure at 0x7fbb5851fc50>"
      ]
     },
     "metadata": {},
     "output_type": "display_data"
    }
   ],
   "source": [
    "calculated_all_metrics(ex2_scores)\n",
    "plot_learningcurve(ex2_scores, Labels.ALL, Metrics.ROC_AUC)"
   ]
  },
  {
   "cell_type": "markdown",
   "metadata": {},
   "source": [
    "### Multilayer CNN"
   ]
  },
  {
   "cell_type": "code",
   "execution_count": 30,
   "metadata": {},
   "outputs": [
    {
     "data": {
      "text/plain": [
       "(5, 2, 5, 7, 2)"
      ]
     },
     "execution_count": 30,
     "metadata": {},
     "output_type": "execute_result"
    }
   ],
   "source": [
    "ex3_scores = np.load('data/scores/cnn_multilayer/scores_1543686279.5532448.npy')\n",
    "ex3_scores.shape"
   ]
  },
  {
   "cell_type": "code",
   "execution_count": 31,
   "metadata": {},
   "outputs": [
    {
     "name": "stdout",
     "output_type": "stream",
     "text": [
      "ROC AUC over 5 runs:\n",
      "All labels:          0.9770 ±0.0011\n",
      "Toxic:               0.9593 ±0.0025\n",
      "Severe toxic:        0.9871 ±0.0006\n",
      "Obscene:             0.9743 ±0.0015\n",
      "Threat:              0.9805 ±0.0046\n",
      "Insult:              0.9680 ±0.0014\n",
      "Identity hate:       0.9724 ±0.0025\n",
      "F1 over 5 runs:\n",
      "All labels:          0.6253 ±0.0100\n",
      "Toxic:               0.6380 ±0.0255\n",
      "Severe toxic:        0.3479 ±0.0500\n",
      "Obscene:             0.6828 ±0.0144\n",
      "Threat:              0.2622 ±0.1450\n",
      "Insult:              0.6386 ±0.0080\n",
      "Identity hate:       0.5155 ±0.0359\n"
     ]
    },
    {
     "name": "stderr",
     "output_type": "stream",
     "text": [
      "/home/philipp/miniconda3/envs/tensorflow/lib/python3.6/site-packages/matplotlib/figure.py:403: UserWarning: matplotlib is currently using a non-GUI backend, so cannot show the figure\n",
      "  \"matplotlib is currently using a non-GUI backend, \"\n"
     ]
    },
    {
     "data": {
      "image/png": "[encoded data removed]",
      "text/plain": [
       "<matplotlib.figure.Figure at 0x7fbb584896d8>"
      ]
     },
     "metadata": {},
     "output_type": "display_data"
    }
   ],
   "source": [
    "calculated_all_metrics(ex3_scores)\n",
    "plot_learningcurve(ex3_scores, Labels.ALL, Metrics.ROC_AUC)"
   ]
  },
  {
   "cell_type": "markdown",
   "metadata": {},
   "source": [
    "### Dilated CNN"
   ]
  },
  {
   "cell_type": "code",
   "execution_count": 32,
   "metadata": {},
   "outputs": [
    {
     "data": {
      "text/plain": [
       "(5, 2, 5, 7, 2)"
      ]
     },
     "execution_count": 32,
     "metadata": {},
     "output_type": "execute_result"
    }
   ],
   "source": [
    "ex4_scores = np.load('data/scores/cnn_dilated/scores_1544054844.630442.npy')\n",
    "ex4_scores.shape"
   ]
  },
  {
   "cell_type": "code",
   "execution_count": 33,
   "metadata": {},
   "outputs": [
    {
     "name": "stdout",
     "output_type": "stream",
     "text": [
      "ROC AUC over 5 runs:\n",
      "All labels:          0.9763 ±0.0005\n",
      "Toxic:               0.9613 ±0.0017\n",
      "Severe toxic:        0.9877 ±0.0005\n",
      "Obscene:             0.9754 ±0.0012\n",
      "Threat:              0.9741 ±0.0059\n",
      "Insult:              0.9670 ±0.0011\n",
      "Identity hate:       0.9613 ±0.0055\n",
      "F1 over 5 runs:\n",
      "All labels:          0.6324 ±0.0076\n",
      "Toxic:               0.6601 ±0.0129\n",
      "Severe toxic:        0.3898 ±0.0358\n",
      "Obscene:             0.6970 ±0.0080\n",
      "Threat:              0.0073 ±0.0107\n",
      "Insult:              0.6305 ±0.0063\n",
      "Identity hate:       0.1343 ±0.1125\n"
     ]
    },
    {
     "name": "stderr",
     "output_type": "stream",
     "text": [
      "/home/philipp/miniconda3/envs/tensorflow/lib/python3.6/site-packages/matplotlib/figure.py:403: UserWarning: matplotlib is currently using a non-GUI backend, so cannot show the figure\n",
      "  \"matplotlib is currently using a non-GUI backend, \"\n"
     ]
    },
    {
     "data": {
      "image/png": "[encoded data removed]",
      "text/plain": [
       "<matplotlib.figure.Figure at 0x7fbb5842d048>"
      ]
     },
     "metadata": {},
     "output_type": "display_data"
    }
   ],
   "source": [
    "calculated_all_metrics(ex4_scores)\n",
    "plot_learningcurve(ex4_scores, Labels.ALL, Metrics.ROC_AUC)"
   ]
  },
  {
   "cell_type": "markdown",
   "metadata": {
    "collapsed": true
   },
   "source": [
    "# Preprocessing comparison"
   ]
  },
  {
   "cell_type": "markdown",
   "metadata": {},
   "source": [
    "### Baseline"
   ]
  },
  {
   "cell_type": "code",
   "execution_count": 34,
   "metadata": {},
   "outputs": [
    {
     "data": {
      "text/plain": [
       "(5, 2, 5, 7, 2)"
      ]
     },
     "execution_count": 34,
     "metadata": {},
     "output_type": "execute_result"
    }
   ],
   "source": [
    "ep1_scores = np.load('data/scores/preprocessing/e1_scores_1544101761.8759387.npy')\n",
    "ep1_scores.shape"
   ]
  },
  {
   "cell_type": "code",
   "execution_count": 35,
   "metadata": {},
   "outputs": [
    {
     "name": "stdout",
     "output_type": "stream",
     "text": [
      "ROC AUC over 5 runs:\n",
      "All labels:          0.9779 ±0.0016\n",
      "Toxic:               0.9599 ±0.0033\n",
      "Severe toxic:        0.9864 ±0.0007\n",
      "Obscene:             0.9746 ±0.0018\n",
      "Threat:              0.9825 ±0.0042\n",
      "Insult:              0.9698 ±0.0023\n",
      "Identity hate:       0.9751 ±0.0025\n",
      "F1 over 5 runs:\n",
      "All labels:          0.6281 ±0.0143\n",
      "Toxic:               0.6341 ±0.0306\n",
      "Severe toxic:        0.3737 ±0.0058\n",
      "Obscene:             0.6799 ±0.0089\n",
      "Threat:              0.3494 ±0.1246\n",
      "Insult:              0.6492 ±0.0089\n",
      "Identity hate:       0.5523 ±0.0160\n"
     ]
    },
    {
     "name": "stderr",
     "output_type": "stream",
     "text": [
      "/home/philipp/miniconda3/envs/tensorflow/lib/python3.6/site-packages/matplotlib/figure.py:403: UserWarning: matplotlib is currently using a non-GUI backend, so cannot show the figure\n",
      "  \"matplotlib is currently using a non-GUI backend, \"\n"
     ]
    },
    {
     "data": {
      "image/png": "[encoded data removed]",
      "text/plain": [
       "<matplotlib.figure.Figure at 0x7fbb583f4630>"
      ]
     },
     "metadata": {},
     "output_type": "display_data"
    }
   ],
   "source": [
    "calculated_all_metrics(ep1_scores)\n",
    "plot_learningcurve(ep1_scores, Labels.ALL, Metrics.ROC_AUC)"
   ]
  },
  {
   "cell_type": "markdown",
   "metadata": {
    "collapsed": true
   },
   "source": [
    "### Strip more than 3 of the same characters in a row"
   ]
  },
  {
   "cell_type": "code",
   "execution_count": 36,
   "metadata": {},
   "outputs": [
    {
     "data": {
      "text/plain": [
       "(5, 2, 5, 7, 2)"
      ]
     },
     "execution_count": 36,
     "metadata": {},
     "output_type": "execute_result"
    }
   ],
   "source": [
    "ep2_scores = np.load('data/scores/preprocessing/e2_scores_1544182966.0022054.npy')\n",
    "ep2_scores.shape"
   ]
  },
  {
   "cell_type": "code",
   "execution_count": 37,
   "metadata": {},
   "outputs": [
    {
     "name": "stderr",
     "output_type": "stream",
     "text": [
      "/home/philipp/miniconda3/envs/tensorflow/lib/python3.6/site-packages/matplotlib/figure.py:403: UserWarning: matplotlib is currently using a non-GUI backend, so cannot show the figure\n",
      "  \"matplotlib is currently using a non-GUI backend, \"\n"
     ]
    },
    {
     "name": "stdout",
     "output_type": "stream",
     "text": [
      "ROC AUC over 5 runs:\n",
      "All labels:          0.9781 ±0.0014\n",
      "Toxic:               0.9602 ±0.0029\n",
      "Severe toxic:        0.9865 ±0.0009\n",
      "Obscene:             0.9746 ±0.0020\n",
      "Threat:              0.9853 ±0.0043\n",
      "Insult:              0.9701 ±0.0020\n",
      "Identity hate:       0.9746 ±0.0030\n",
      "F1 over 5 runs:\n",
      "All labels:          0.6298 ±0.0145\n",
      "Toxic:               0.6315 ±0.0301\n",
      "Severe toxic:        0.3729 ±0.0101\n",
      "Obscene:             0.6792 ±0.0086\n",
      "Threat:              0.3486 ±0.1762\n",
      "Insult:              0.6511 ±0.0072\n",
      "Identity hate:       0.5530 ±0.0235\n"
     ]
    },
    {
     "data": {
      "image/png": "[encoded data removed]",
      "text/plain": [
       "<matplotlib.figure.Figure at 0x7fbb58549a20>"
      ]
     },
     "metadata": {},
     "output_type": "display_data"
    }
   ],
   "source": [
    "calculated_all_metrics(ep2_scores)\n",
    "plot_learningcurve(ep2_scores, Labels.ALL, Metrics.ROC_AUC)"
   ]
  },
  {
   "cell_type": "markdown",
   "metadata": {},
   "source": [
    "### Remove all punctuation"
   ]
  },
  {
   "cell_type": "code",
   "execution_count": 38,
   "metadata": {},
   "outputs": [
    {
     "data": {
      "text/plain": [
       "(5, 2, 5, 7, 2)"
      ]
     },
     "execution_count": 38,
     "metadata": {},
     "output_type": "execute_result"
    }
   ],
   "source": [
    "ep3_scores = np.load('data/scores/preprocessing/e3_scores_1544214485.001909.npy')\n",
    "ep3_scores.shape"
   ]
  },
  {
   "cell_type": "code",
   "execution_count": 39,
   "metadata": {},
   "outputs": [
    {
     "name": "stdout",
     "output_type": "stream",
     "text": [
      "ROC AUC over 5 runs:\n",
      "All labels:          0.9777 ±0.0012\n",
      "Toxic:               0.9589 ±0.0037\n",
      "Severe toxic:        0.9860 ±0.0011\n",
      "Obscene:             0.9748 ±0.0013\n",
      "Threat:              0.9810 ±0.0045\n",
      "Insult:              0.9699 ±0.0017\n",
      "Identity hate:       0.9732 ±0.0022\n",
      "F1 over 5 runs:\n",
      "All labels:          0.6344 ±0.0103\n",
      "Toxic:               0.6419 ±0.0245\n",
      "Severe toxic:        0.3580 ±0.0460\n",
      "Obscene:             0.6816 ±0.0074\n",
      "Threat:              0.2962 ±0.1804\n",
      "Insult:              0.6530 ±0.0064\n",
      "Identity hate:       0.5570 ±0.0205\n"
     ]
    },
    {
     "name": "stderr",
     "output_type": "stream",
     "text": [
      "/home/philipp/miniconda3/envs/tensorflow/lib/python3.6/site-packages/matplotlib/figure.py:403: UserWarning: matplotlib is currently using a non-GUI backend, so cannot show the figure\n",
      "  \"matplotlib is currently using a non-GUI backend, \"\n"
     ]
    },
    {
     "data": {
      "image/png": "[encoded data removed]",
      "text/plain": [
       "<matplotlib.figure.Figure at 0x7fbb9028a240>"
      ]
     },
     "metadata": {},
     "output_type": "display_data"
    }
   ],
   "source": [
    "calculated_all_metrics(ep3_scores)\n",
    "plot_learningcurve(ep3_scores, Labels.ALL, Metrics.ROC_AUC)"
   ]
  },
  {
   "cell_type": "code",
   "execution_count": null,
   "metadata": {
    "collapsed": true
   },
   "outputs": [],
   "source": []
  }
 ],
 "metadata": {
  "kernelspec": {
   "display_name": "Python 3",
   "language": "python",
   "name": "python3"
  },
  "language_info": {
   "codemirror_mode": {
    "name": "ipython",
    "version": 3
   },
   "file_extension": ".py",
   "mimetype": "text/x-python",
   "name": "python",
   "nbconvert_exporter": "python",
   "pygments_lexer": "ipython3",
   "version": "3.6.1"
  }
 },
 "nbformat": 4,
 "nbformat_minor": 2
}
