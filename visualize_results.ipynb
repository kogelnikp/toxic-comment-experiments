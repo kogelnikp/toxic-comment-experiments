{
 "cells": [
  {
   "cell_type": "code",
   "execution_count": 6,
   "metadata": {
    "collapsed": true
   },
   "outputs": [],
   "source": [
    "import numpy as np\n",
    "import pandas as pd\n",
    "import matplotlib.pyplot as plt\n",
    "from enum import Enum\n",
    "%matplotlib inline"
   ]
  },
  {
   "cell_type": "code",
   "execution_count": 7,
   "metadata": {
    "collapsed": true
   },
   "outputs": [],
   "source": [
    "class Labels(Enum):\n",
    "    ALL = 0,\n",
    "    TOXIC = 1,\n",
    "    SEVERE_TOXIC = 2,\n",
    "    OBSCENE = 3,\n",
    "    THREAT = 4,\n",
    "    INSULT = 5,\n",
    "    IDENTITY_HATE = 6\n",
    "\n",
    "class DataSets(Enum):\n",
    "    TRAIN = 0,\n",
    "    VALIDATION = 1\n",
    "\n",
    "class Metrics(Enum):\n",
    "    ROC_AUC = 0,\n",
    "    F1 = 1"
   ]
  },
  {
   "cell_type": "code",
   "execution_count": 8,
   "metadata": {
    "collapsed": true
   },
   "outputs": [],
   "source": [
    "def calculate_mean_std(scores, data_set, label, metric):\n",
    "    best_epochs = scores[:, data_set.value, :, label.value, metric.value].max(axis=1)\n",
    "    return best_epochs.mean(), best_epochs.std()\n",
    "\n",
    "def calculated_all_metrics(scores):\n",
    "    roc_all_mean, roc_all_std = calculate_mean_std(scores, DataSets.VALIDATION, Labels.ALL, Metrics.ROC_AUC)\n",
    "    roc_c1_mean, roc_c1_std = calculate_mean_std(scores, DataSets.VALIDATION, Labels.TOXIC, Metrics.ROC_AUC)\n",
    "    roc_c2_mean, roc_c2_std = calculate_mean_std(scores, DataSets.VALIDATION, Labels.SEVERE_TOXIC, Metrics.ROC_AUC)\n",
    "    roc_c3_mean, roc_c3_std = calculate_mean_std(scores, DataSets.VALIDATION, Labels.OBSCENE, Metrics.ROC_AUC)\n",
    "    roc_c4_mean, roc_c4_std = calculate_mean_std(scores, DataSets.VALIDATION, Labels.THREAT, Metrics.ROC_AUC)\n",
    "    roc_c5_mean, roc_c5_std = calculate_mean_std(scores, DataSets.VALIDATION, Labels.INSULT, Metrics.ROC_AUC)\n",
    "    roc_c6_mean, roc_c6_std = calculate_mean_std(scores, DataSets.VALIDATION, Labels.IDENTITY_HATE, Metrics.ROC_AUC)\n",
    "    f1_all_mean, f1_all_std = calculate_mean_std(scores, DataSets.VALIDATION, Labels.ALL, Metrics.F1)\n",
    "    f1_c1_mean, f1_c1_std = calculate_mean_std(scores, DataSets.VALIDATION, Labels.TOXIC, Metrics.F1)\n",
    "    f1_c2_mean, f1_c2_std = calculate_mean_std(scores, DataSets.VALIDATION, Labels.SEVERE_TOXIC, Metrics.F1)\n",
    "    f1_c3_mean, f1_c3_std = calculate_mean_std(scores, DataSets.VALIDATION, Labels.OBSCENE, Metrics.F1)\n",
    "    f1_c4_mean, f1_c4_std = calculate_mean_std(scores, DataSets.VALIDATION, Labels.THREAT, Metrics.F1)\n",
    "    f1_c5_mean, f1_c5_std = calculate_mean_std(scores, DataSets.VALIDATION, Labels.INSULT, Metrics.F1)\n",
    "    f1_c6_mean, f1_c6_std = calculate_mean_std(scores, DataSets.VALIDATION, Labels.IDENTITY_HATE, Metrics.F1)\n",
    "    \n",
    "    print(\"ROC AUC over 5 runs:\")\n",
    "    print(\"{:20s} {:.4f} ±{:.4f}\".format('All labels:', roc_all_mean, roc_all_std))\n",
    "    print(\"{:20s} {:.4f} ±{:.4f}\".format('Toxic:', roc_c1_mean, roc_c1_std))\n",
    "    print(\"{:20s} {:.4f} ±{:.4f}\".format('Severe toxic:', roc_c2_mean, roc_c2_std))\n",
    "    print(\"{:20s} {:.4f} ±{:.4f}\".format('Obscene:', roc_c3_mean, roc_c3_std))\n",
    "    print(\"{:20s} {:.4f} ±{:.4f}\".format('Threat:', roc_c4_mean, roc_c4_std))\n",
    "    print(\"{:20s} {:.4f} ±{:.4f}\".format('Insult:', roc_c5_mean, roc_c5_std))\n",
    "    print(\"{:20s} {:.4f} ±{:.4f}\".format('Identity hate:', roc_c6_mean, roc_c6_std))\n",
    "    print(\"F1 over 5 runs:\")\n",
    "    print(\"{:20s} {:.4f} ±{:.4f}\".format('All labels:', f1_all_mean, f1_all_std))\n",
    "    print(\"{:20s} {:.4f} ±{:.4f}\".format('Toxic:', f1_c1_mean, f1_c1_std))\n",
    "    print(\"{:20s} {:.4f} ±{:.4f}\".format('Severe toxic:', f1_c2_mean, f1_c2_std))\n",
    "    print(\"{:20s} {:.4f} ±{:.4f}\".format('Obscene:', f1_c3_mean, f1_c3_std))\n",
    "    print(\"{:20s} {:.4f} ±{:.4f}\".format('Threat:', f1_c4_mean, f1_c4_std))\n",
    "    print(\"{:20s} {:.4f} ±{:.4f}\".format('Insult:', f1_c5_mean, f1_c5_std))\n",
    "    print(\"{:20s} {:.4f} ±{:.4f}\".format('Identity hate:', f1_c6_mean, f1_c6_std))\n",
    "\n",
    "def plot_learningcurve(scores, label, metric):\n",
    "    train_scores = scores[:, DataSets.TRAIN.value, :, label.value, metric.value].mean(axis=1)\n",
    "    val_scores = scores[:, DataSets.VALIDATION.value, :, label.value, metric.value].mean(axis=1)\n",
    "    plt.plot(val_scores[0])\n",
    "    plt.plot(train_scores[0])"
   ]
  },
  {
   "cell_type": "markdown",
   "metadata": {},
   "source": [
    "# CNN Architecture Experiments"
   ]
  },
  {
   "cell_type": "markdown",
   "metadata": {},
   "source": [
    "### Singlelayer CNN"
   ]
  },
  {
   "cell_type": "code",
   "execution_count": 9,
   "metadata": {},
   "outputs": [
    {
     "data": {
      "text/plain": [
       "(5, 2, 5, 7, 2)"
      ]
     },
     "execution_count": 9,
     "metadata": {},
     "output_type": "execute_result"
    }
   ],
   "source": [
    "ex1_scores = np.load('data/scores/cnn_simple/scores_1543539380.5547197.npy')\n",
    "ex1_scores.shape"
   ]
  },
  {
   "cell_type": "code",
   "execution_count": 10,
   "metadata": {},
   "outputs": [
    {
     "name": "stdout",
     "output_type": "stream",
     "text": [
      "ROC AUC over 5 runs:\n",
      "All labels:          0.9779 ±0.0011\n",
      "Toxic:               0.9606 ±0.0030\n",
      "Severe toxic:        0.9859 ±0.0012\n",
      "Obscene:             0.9749 ±0.0015\n",
      "Threat:              0.9841 ±0.0048\n",
      "Insult:              0.9703 ±0.0019\n",
      "Identity hate:       0.9758 ±0.0034\n",
      "F1 over 5 runs:\n",
      "All labels:          0.6271 ±0.0137\n",
      "Toxic:               0.6352 ±0.0355\n",
      "Severe toxic:        0.3079 ±0.0442\n",
      "Obscene:             0.6814 ±0.0097\n",
      "Threat:              0.3434 ±0.1781\n",
      "Insult:              0.6525 ±0.0070\n",
      "Identity hate:       0.5537 ±0.0101\n"
     ]
    },
    {
     "data": {
      "image/png": "[encoded data removed]",
      "text/plain": [
       "<matplotlib.figure.Figure at 0x7f5bd62a5320>"
      ]
     },
     "metadata": {},
     "output_type": "display_data"
    }
   ],
   "source": [
    "calculated_all_metrics(ex1_scores)\n",
    "plot_learningcurve(ex1_scores, Labels.ALL, Metrics.ROC_AUC)"
   ]
  },
  {
   "cell_type": "markdown",
   "metadata": {},
   "source": [
    "### Singlelayer CNN with multiple window sizes"
   ]
  },
  {
   "cell_type": "code",
   "execution_count": 11,
   "metadata": {},
   "outputs": [
    {
     "data": {
      "text/plain": [
       "(5, 2, 5, 7, 2)"
      ]
     },
     "execution_count": 11,
     "metadata": {},
     "output_type": "execute_result"
    }
   ],
   "source": [
    "ex2_scores = np.load('data/scores/cnn_multiwindowsizes/scores_1543641482.1065862.npy')\n",
    "ex2_scores.shape"
   ]
  },
  {
   "cell_type": "code",
   "execution_count": 12,
   "metadata": {},
   "outputs": [
    {
     "name": "stdout",
     "output_type": "stream",
     "text": [
      "ROC AUC over 5 runs:\n",
      "All labels:          0.9781 ±0.0012\n",
      "Toxic:               0.9605 ±0.0033\n",
      "Severe toxic:        0.9865 ±0.0008\n",
      "Obscene:             0.9748 ±0.0010\n",
      "Threat:              0.9830 ±0.0033\n",
      "Insult:              0.9702 ±0.0016\n",
      "Identity hate:       0.9747 ±0.0027\n",
      "F1 over 5 runs:\n",
      "All labels:          0.6309 ±0.0128\n",
      "Toxic:               0.6368 ±0.0313\n",
      "Severe toxic:        0.3741 ±0.0347\n",
      "Obscene:             0.6811 ±0.0084\n",
      "Threat:              0.3013 ±0.1686\n",
      "Insult:              0.6532 ±0.0065\n",
      "Identity hate:       0.5536 ±0.0135\n"
     ]
    },
    {
     "data": {
      "image/png": "[encoded data removed]",
      "text/plain": [
       "<matplotlib.figure.Figure at 0x7f5bd62b7c50>"
      ]
     },
     "metadata": {},
     "output_type": "display_data"
    }
   ],
   "source": [
    "calculated_all_metrics(ex2_scores)\n",
    "plot_learningcurve(ex2_scores, Labels.ALL, Metrics.ROC_AUC)"
   ]
  },
  {
   "cell_type": "markdown",
   "metadata": {},
   "source": [
    "### Multilayer CNN"
   ]
  },
  {
   "cell_type": "code",
   "execution_count": 13,
   "metadata": {},
   "outputs": [
    {
     "data": {
      "text/plain": [
       "(5, 2, 5, 7, 2)"
      ]
     },
     "execution_count": 13,
     "metadata": {},
     "output_type": "execute_result"
    }
   ],
   "source": [
    "ex3_scores = np.load('data/scores/cnn_multilayer/scores_1543686279.5532448.npy')\n",
    "ex3_scores.shape"
   ]
  },
  {
   "cell_type": "code",
   "execution_count": 14,
   "metadata": {},
   "outputs": [
    {
     "name": "stdout",
     "output_type": "stream",
     "text": [
      "ROC AUC over 5 runs:\n",
      "All labels:          0.9770 ±0.0011\n",
      "Toxic:               0.9593 ±0.0025\n",
      "Severe toxic:        0.9871 ±0.0006\n",
      "Obscene:             0.9743 ±0.0015\n",
      "Threat:              0.9805 ±0.0046\n",
      "Insult:              0.9680 ±0.0014\n",
      "Identity hate:       0.9724 ±0.0025\n",
      "F1 over 5 runs:\n",
      "All labels:          0.6253 ±0.0100\n",
      "Toxic:               0.6380 ±0.0255\n",
      "Severe toxic:        0.3479 ±0.0500\n",
      "Obscene:             0.6828 ±0.0144\n",
      "Threat:              0.2622 ±0.1450\n",
      "Insult:              0.6386 ±0.0080\n",
      "Identity hate:       0.5155 ±0.0359\n"
     ]
    },
    {
     "data": {
      "image/png": "[encoded data removed]",
      "text/plain": [
       "<matplotlib.figure.Figure at 0x7f5bd62b2fd0>"
      ]
     },
     "metadata": {},
     "output_type": "display_data"
    }
   ],
   "source": [
    "calculated_all_metrics(ex3_scores)\n",
    "plot_learningcurve(ex3_scores, Labels.ALL, Metrics.ROC_AUC)"
   ]
  },
  {
   "cell_type": "markdown",
   "metadata": {},
   "source": [
    "### Dilated CNN"
   ]
  },
  {
   "cell_type": "code",
   "execution_count": 15,
   "metadata": {},
   "outputs": [
    {
     "data": {
      "text/plain": [
       "(5, 2, 5, 7, 2)"
      ]
     },
     "execution_count": 15,
     "metadata": {},
     "output_type": "execute_result"
    }
   ],
   "source": [
    "ex4_scores = np.load('data/scores/cnn_dilated/scores_1544054844.630442.npy')\n",
    "ex4_scores.shape"
   ]
  },
  {
   "cell_type": "code",
   "execution_count": 16,
   "metadata": {},
   "outputs": [
    {
     "name": "stdout",
     "output_type": "stream",
     "text": [
      "ROC AUC over 5 runs:\n",
      "All labels:          0.9763 ±0.0005\n",
      "Toxic:               0.9613 ±0.0017\n",
      "Severe toxic:        0.9877 ±0.0005\n",
      "Obscene:             0.9754 ±0.0012\n",
      "Threat:              0.9741 ±0.0059\n",
      "Insult:              0.9670 ±0.0011\n",
      "Identity hate:       0.9613 ±0.0055\n",
      "F1 over 5 runs:\n",
      "All labels:          0.6324 ±0.0076\n",
      "Toxic:               0.6601 ±0.0129\n",
      "Severe toxic:        0.3898 ±0.0358\n",
      "Obscene:             0.6970 ±0.0080\n",
      "Threat:              0.0073 ±0.0107\n",
      "Insult:              0.6305 ±0.0063\n",
      "Identity hate:       0.1343 ±0.1125\n"
     ]
    },
    {
     "data": {
      "image/png": "[encoded data removed]",
      "text/plain": [
       "<matplotlib.figure.Figure at 0x7f5bd40d02b0>"
      ]
     },
     "metadata": {},
     "output_type": "display_data"
    }
   ],
   "source": [
    "calculated_all_metrics(ex4_scores)\n",
    "plot_learningcurve(ex4_scores, Labels.ALL, Metrics.ROC_AUC)"
   ]
  },
  {
   "cell_type": "code",
   "execution_count": null,
   "metadata": {
    "collapsed": true
   },
   "outputs": [],
   "source": []
  }
 ],
 "metadata": {
  "kernelspec": {
   "display_name": "Python 3",
   "language": "python",
   "name": "python3"
  },
  "language_info": {
   "codemirror_mode": {
    "name": "ipython",
    "version": 3
   },
   "file_extension": ".py",
   "mimetype": "text/x-python",
   "name": "python",
   "nbconvert_exporter": "python",
   "pygments_lexer": "ipython3",
   "version": "3.6.1"
  }
 },
 "nbformat": 4,
 "nbformat_minor": 2
}
